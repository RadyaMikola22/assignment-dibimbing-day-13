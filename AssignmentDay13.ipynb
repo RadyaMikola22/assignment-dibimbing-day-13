{
  "nbformat": 4,
  "nbformat_minor": 0,
  "metadata": {
    "colab": {
      "provenance": [],
      "collapsed_sections": [
        "jrNUHY3XqEhM",
        "Uhl8SD09sa3B",
        "al2hKEbcwkld",
        "MHOiQ1r1wt6C",
        "fm4GCI8X2oAa",
        "vvonusEv64l2",
        "lTI2dMaMhaif",
        "8G8PJPs6he8F",
        "fVXgf7vSwcDk",
        "fkXKK2L4_BwN",
        "A5xYUvbzIXfJ",
        "241caTXDSNMd",
        "Dexm0-0nZMui",
        "kDouyjyXo6q-",
        "igztNqXApD2i"
      ]
    },
    "kernelspec": {
      "name": "python3",
      "display_name": "Python 3"
    },
    "language_info": {
      "name": "python"
    }
  },
  "cells": [
    {
      "cell_type": "markdown",
      "source": [
        "# **Assignment Day 13 (Mochamad Ananda Radya Mikola)**\n",
        "\n",
        "Task Assigment Day 13 - Big Data Analytics with PySpark Part 2"
      ],
      "metadata": {
        "id": "YLiB_hEIp62J"
      }
    },
    {
      "cell_type": "markdown",
      "source": [
        "## **1. Data Preparation (Extract)**\n",
        "\n",
        "Mempersipakan data dari file CSV yang diberikan oleh Mas Albert melalui link drive.\n"
      ],
      "metadata": {
        "id": "jrNUHY3XqEhM"
      }
    },
    {
      "cell_type": "code",
      "execution_count": 1,
      "metadata": {
        "colab": {
          "base_uri": "https://localhost:8080/"
        },
        "id": "SRk6_hwglSn6",
        "outputId": "74d1180a-29c0-4cfe-c82f-6d3619e9b48b"
      },
      "outputs": [
        {
          "output_type": "stream",
          "name": "stdout",
          "text": [
            "Collecting pyspark\n",
            "  Downloading pyspark-3.4.1.tar.gz (310.8 MB)\n",
            "\u001b[2K     \u001b[90m━━━━━━━━━━━━━━━━━━━━━━━━━━━━━━━━━━━━━━━\u001b[0m \u001b[32m310.8/310.8 MB\u001b[0m \u001b[31m5.0 MB/s\u001b[0m eta \u001b[36m0:00:00\u001b[0m\n",
            "\u001b[?25h  Preparing metadata (setup.py) ... \u001b[?25l\u001b[?25hdone\n",
            "Requirement already satisfied: py4j==0.10.9.7 in /usr/local/lib/python3.10/dist-packages (from pyspark) (0.10.9.7)\n",
            "Building wheels for collected packages: pyspark\n",
            "  Building wheel for pyspark (setup.py) ... \u001b[?25l\u001b[?25hdone\n",
            "  Created wheel for pyspark: filename=pyspark-3.4.1-py2.py3-none-any.whl size=311285387 sha256=55e20d744f36ab63ed1a1c7a56358602ab0cc9183e18f957bd1275bbac3d8356\n",
            "  Stored in directory: /root/.cache/pip/wheels/0d/77/a3/ff2f74cc9ab41f8f594dabf0579c2a7c6de920d584206e0834\n",
            "Successfully built pyspark\n",
            "Installing collected packages: pyspark\n",
            "Successfully installed pyspark-3.4.1\n"
          ]
        }
      ],
      "source": [
        "#Menginstal PySpark\n",
        "\n",
        "! pip install pyspark"
      ]
    },
    {
      "cell_type": "code",
      "source": [
        "#Menginstal kaleido untuk ngeload atau export fig dari hasil analisis nanti menjadi PNG\n",
        "\n",
        "! pip install -U kaleido"
      ],
      "metadata": {
        "colab": {
          "base_uri": "https://localhost:8080/"
        },
        "id": "C0x-3J0fcdWY",
        "outputId": "7e8eb8a3-0ca4-40e2-9357-010f4dd35d74"
      },
      "execution_count": 2,
      "outputs": [
        {
          "output_type": "stream",
          "name": "stdout",
          "text": [
            "Collecting kaleido\n",
            "  Downloading kaleido-0.2.1-py2.py3-none-manylinux1_x86_64.whl (79.9 MB)\n",
            "\u001b[2K     \u001b[90m━━━━━━━━━━━━━━━━━━━━━━━━━━━━━━━━━━━━━━━━\u001b[0m \u001b[32m79.9/79.9 MB\u001b[0m \u001b[31m7.8 MB/s\u001b[0m eta \u001b[36m0:00:00\u001b[0m\n",
            "\u001b[?25hInstalling collected packages: kaleido\n",
            "Successfully installed kaleido-0.2.1\n"
          ]
        }
      ]
    },
    {
      "cell_type": "code",
      "source": [
        "#Melakukan import library yang digunakan sepanjang proses cleaning,transform dan load serta analisis nanti\n",
        "\n",
        "from google.colab import drive\n",
        "from pyspark.sql import SparkSession\n",
        "import pyspark.sql.functions as F\n",
        "from pyspark.sql.functions import col, dayofweek, expr, year, split, explode, corr\n",
        "import plotly.express as px"
      ],
      "metadata": {
        "id": "b7MtZN7E9r-0"
      },
      "execution_count": 3,
      "outputs": []
    },
    {
      "cell_type": "code",
      "source": [
        "#Melakukan mounting ke drive saya, dimana saya menaruh filenya yang diperlukan di drive saya\n",
        "\n",
        "drive.mount('/content/drive')\n",
        "\n",
        "#Melakukan path directory ke file-file yang akan digunakan nanti dan dilakukan read menggunakan SparkSession\n",
        "\n",
        "file_path_attendance = '/content/drive/MyDrive/Day 13/Dataset/course_attendance.csv'\n",
        "file_path_course = '/content/drive/MyDrive/Day 13/Dataset/course.csv'\n",
        "file_path_enroll = '/content/drive/MyDrive/Day 13/Dataset/enrollment.csv'\n",
        "file_path_schedule = '/content/drive/MyDrive/Day 13/Dataset/schedule.csv'"
      ],
      "metadata": {
        "id": "PQaKiGa-9-Ra",
        "colab": {
          "base_uri": "https://localhost:8080/"
        },
        "outputId": "88cf6142-1ae4-4d38-f77b-e6089286fb02"
      },
      "execution_count": 4,
      "outputs": [
        {
          "output_type": "stream",
          "name": "stdout",
          "text": [
            "Mounted at /content/drive\n"
          ]
        }
      ]
    },
    {
      "cell_type": "code",
      "source": [
        "ss = SparkSession.builder.appName('AssignmentDay13').master('local').getOrCreate()"
      ],
      "metadata": {
        "id": "4zAmvfnR_uDB"
      },
      "execution_count": 5,
      "outputs": []
    },
    {
      "cell_type": "code",
      "source": [
        "df_course_attendance = ss.read.csv (file_path_attendance, header=True, inferSchema=True)"
      ],
      "metadata": {
        "id": "6Ccyg0wB_4n8"
      },
      "execution_count": 6,
      "outputs": []
    },
    {
      "cell_type": "code",
      "source": [
        "df_schedule = ss.read.csv (file_path_schedule, header=True, inferSchema=True)"
      ],
      "metadata": {
        "id": "IMUTEgvLvvQC"
      },
      "execution_count": 7,
      "outputs": []
    },
    {
      "cell_type": "code",
      "source": [
        "df_course = ss.read.csv (file_path_course, header=True, inferSchema=True)"
      ],
      "metadata": {
        "id": "M63BQiT_vwYl"
      },
      "execution_count": 8,
      "outputs": []
    },
    {
      "cell_type": "code",
      "source": [
        "df_enrollment = ss.read.csv (file_path_enroll, header=True, inferSchema=True)"
      ],
      "metadata": {
        "id": "_6wLj7ZdvxU_"
      },
      "execution_count": 9,
      "outputs": []
    },
    {
      "cell_type": "markdown",
      "source": [
        "## **2. Data Cleaning and Transform**\n",
        "\n",
        "Melakukan pembersihan data dan mengubah format-format data yang belum sesuai menjadi format yang sesuai dengan data sebenarnya."
      ],
      "metadata": {
        "id": "Uhl8SD09sa3B"
      }
    },
    {
      "cell_type": "markdown",
      "source": [
        "### **Data Course Attendace**"
      ],
      "metadata": {
        "id": "al2hKEbcwkld"
      }
    },
    {
      "cell_type": "code",
      "source": [
        "df_course_attendance.show(10)\n",
        "df_course_attendance.printSchema()"
      ],
      "metadata": {
        "colab": {
          "base_uri": "https://localhost:8080/"
        },
        "id": "UX1Uf4T-sd_q",
        "outputId": "a9a04e99-e082-4aeb-ab11-77230ca3c615"
      },
      "execution_count": 10,
      "outputs": [
        {
          "output_type": "stream",
          "name": "stdout",
          "text": [
            "+---+----------+-----------+---------+\n",
            "| ID|STUDENT_ID|SCHEDULE_ID|ATTEND_DT|\n",
            "+---+----------+-----------+---------+\n",
            "|  1|         1|          2|10-Sep-19|\n",
            "|  2|         1|          2|11-Sep-19|\n",
            "|  3|         1|          2|17-Sep-19|\n",
            "|  4|         1|          2|18-Sep-19|\n",
            "|  5|         1|          2|24-Sep-19|\n",
            "|  6|         1|          2|25-Sep-19|\n",
            "|  7|         1|          2|01-Oct-19|\n",
            "|  8|         1|          2|02-Oct-19|\n",
            "|  9|         1|          2|08-Oct-19|\n",
            "| 10|         1|          2|09-Oct-19|\n",
            "+---+----------+-----------+---------+\n",
            "only showing top 10 rows\n",
            "\n",
            "root\n",
            " |-- ID: integer (nullable = true)\n",
            " |-- STUDENT_ID: integer (nullable = true)\n",
            " |-- SCHEDULE_ID: integer (nullable = true)\n",
            " |-- ATTEND_DT: string (nullable = true)\n",
            "\n"
          ]
        }
      ]
    },
    {
      "cell_type": "code",
      "source": [
        "#Saya mengubah nama kolomnya agar lebih rapih dan mudah saat melakukan sql join nanti\n",
        "\n",
        "df_course_attendance = df_course_attendance \\\n",
        "    .withColumnRenamed(\"ID\", \"ca_id\") \\\n",
        "    .withColumnRenamed(\"STUDENT_ID\", \"student_id\") \\\n",
        "    .withColumnRenamed(\"SCHEDULE_ID\", \"schedule_id\") \\\n",
        "    .withColumnRenamed(\"ATTEND_DT\", \"attend_date\")\n",
        "df_course_attendance.show(10)"
      ],
      "metadata": {
        "colab": {
          "base_uri": "https://localhost:8080/"
        },
        "id": "-AmVIuaNye26",
        "outputId": "9cdef94c-d38f-4c31-91da-6a6f2ffd7909"
      },
      "execution_count": 11,
      "outputs": [
        {
          "output_type": "stream",
          "name": "stdout",
          "text": [
            "+-----+----------+-----------+-----------+\n",
            "|ca_id|student_id|schedule_id|attend_date|\n",
            "+-----+----------+-----------+-----------+\n",
            "|    1|         1|          2|  10-Sep-19|\n",
            "|    2|         1|          2|  11-Sep-19|\n",
            "|    3|         1|          2|  17-Sep-19|\n",
            "|    4|         1|          2|  18-Sep-19|\n",
            "|    5|         1|          2|  24-Sep-19|\n",
            "|    6|         1|          2|  25-Sep-19|\n",
            "|    7|         1|          2|  01-Oct-19|\n",
            "|    8|         1|          2|  02-Oct-19|\n",
            "|    9|         1|          2|  08-Oct-19|\n",
            "|   10|         1|          2|  09-Oct-19|\n",
            "+-----+----------+-----------+-----------+\n",
            "only showing top 10 rows\n",
            "\n"
          ]
        }
      ]
    },
    {
      "cell_type": "code",
      "source": [
        "#saya buat format attend_date nya menjadi format date yang benar\n",
        "\n",
        "df_course_attendance = df_course_attendance \\\n",
        "    .withColumn('attend_date',F.to_date('attend_date', format='dd-MMM-yy'))\n",
        "df_course_attendance.show(10)\n",
        "df_course_attendance.printSchema()"
      ],
      "metadata": {
        "colab": {
          "base_uri": "https://localhost:8080/"
        },
        "id": "_Thl74tftUtZ",
        "outputId": "fef4f600-2fdd-44fa-ad85-2940581fe5eb"
      },
      "execution_count": 12,
      "outputs": [
        {
          "output_type": "stream",
          "name": "stdout",
          "text": [
            "+-----+----------+-----------+-----------+\n",
            "|ca_id|student_id|schedule_id|attend_date|\n",
            "+-----+----------+-----------+-----------+\n",
            "|    1|         1|          2| 2019-09-10|\n",
            "|    2|         1|          2| 2019-09-11|\n",
            "|    3|         1|          2| 2019-09-17|\n",
            "|    4|         1|          2| 2019-09-18|\n",
            "|    5|         1|          2| 2019-09-24|\n",
            "|    6|         1|          2| 2019-09-25|\n",
            "|    7|         1|          2| 2019-10-01|\n",
            "|    8|         1|          2| 2019-10-02|\n",
            "|    9|         1|          2| 2019-10-08|\n",
            "|   10|         1|          2| 2019-10-09|\n",
            "+-----+----------+-----------+-----------+\n",
            "only showing top 10 rows\n",
            "\n",
            "root\n",
            " |-- ca_id: integer (nullable = true)\n",
            " |-- student_id: integer (nullable = true)\n",
            " |-- schedule_id: integer (nullable = true)\n",
            " |-- attend_date: date (nullable = true)\n",
            "\n"
          ]
        }
      ]
    },
    {
      "cell_type": "markdown",
      "source": [
        "### **Data Course**"
      ],
      "metadata": {
        "id": "MHOiQ1r1wt6C"
      }
    },
    {
      "cell_type": "code",
      "source": [
        "df_course.show()\n",
        "df_course.printSchema()"
      ],
      "metadata": {
        "colab": {
          "base_uri": "https://localhost:8080/"
        },
        "id": "XLYUzpBSw1Z0",
        "outputId": "7be32d05-d0bc-45fd-df00-dc285e0d70a1"
      },
      "execution_count": 13,
      "outputs": [
        {
          "output_type": "stream",
          "name": "stdout",
          "text": [
            "+---+--------------------+\n",
            "| ID|                NAME|\n",
            "+---+--------------------+\n",
            "|  1|Introduction to A...|\n",
            "|  2|Natural Language ...|\n",
            "|  3|         Data Mining|\n",
            "|  4|Applied Data Science|\n",
            "|  5|           Statistic|\n",
            "|  6|Introduction to O...|\n",
            "|  7|  Python Programming|\n",
            "|  8|Information Retri...|\n",
            "|  9|          Blockchain|\n",
            "| 10|  Internet of Things|\n",
            "+---+--------------------+\n",
            "\n",
            "root\n",
            " |-- ID: integer (nullable = true)\n",
            " |-- NAME: string (nullable = true)\n",
            "\n"
          ]
        }
      ]
    },
    {
      "cell_type": "code",
      "source": [
        "#Saya mengubah nama kolomnya agar lebih rapih dan mudah saat melakukan sql join nanti\n",
        "\n",
        "df_course = df_course \\\n",
        "    .withColumnRenamed(\"ID\", \"course_id\") \\\n",
        "    .withColumnRenamed(\"NAME\", \"course_name\")\n",
        "df_course.show()"
      ],
      "metadata": {
        "colab": {
          "base_uri": "https://localhost:8080/"
        },
        "id": "9swB33QAxKyX",
        "outputId": "e38c0773-f3f8-4e16-c2dc-c3114f231ba2"
      },
      "execution_count": 14,
      "outputs": [
        {
          "output_type": "stream",
          "name": "stdout",
          "text": [
            "+---------+--------------------+\n",
            "|course_id|         course_name|\n",
            "+---------+--------------------+\n",
            "|        1|Introduction to A...|\n",
            "|        2|Natural Language ...|\n",
            "|        3|         Data Mining|\n",
            "|        4|Applied Data Science|\n",
            "|        5|           Statistic|\n",
            "|        6|Introduction to O...|\n",
            "|        7|  Python Programming|\n",
            "|        8|Information Retri...|\n",
            "|        9|          Blockchain|\n",
            "|       10|  Internet of Things|\n",
            "+---------+--------------------+\n",
            "\n"
          ]
        }
      ]
    },
    {
      "cell_type": "markdown",
      "source": [
        "### **Data Enrollment**"
      ],
      "metadata": {
        "id": "fm4GCI8X2oAa"
      }
    },
    {
      "cell_type": "code",
      "source": [
        "df_enrollment.show(10)\n",
        "df_enrollment.printSchema()"
      ],
      "metadata": {
        "colab": {
          "base_uri": "https://localhost:8080/"
        },
        "id": "XbelJgX72s8n",
        "outputId": "2127f69a-31be-4887-f3b7-4e75ae810f65"
      },
      "execution_count": 15,
      "outputs": [
        {
          "output_type": "stream",
          "name": "stdout",
          "text": [
            "+---+----------+-----------+-------------+--------+---------+\n",
            "| ID|STUDENT_ID|SCHEDULE_ID|ACADEMIC_YEAR|SEMESTER|ENROLL_DT|\n",
            "+---+----------+-----------+-------------+--------+---------+\n",
            "|  1|         1|          2|    2019/2020|       1|17-Aug-19|\n",
            "|  2|         1|          4|    2019/2020|       1|17-Aug-19|\n",
            "|  3|         2|          1|    2019/2020|       1|17-Aug-19|\n",
            "|  4|         2|          2|    2019/2020|       1|17-Aug-19|\n",
            "|  5|         2|          3|    2019/2020|       1|17-Aug-19|\n",
            "|  6|         6|          1|    2019/2020|       1|17-Aug-19|\n",
            "|  7|         6|          2|    2019/2020|       1|17-Aug-19|\n",
            "|  8|         7|          3|    2019/2020|       1|17-Aug-19|\n",
            "|  9|        10|          4|    2019/2020|       1|17-Aug-19|\n",
            "| 10|         1|          7|    2019/2020|       2|17-Aug-19|\n",
            "+---+----------+-----------+-------------+--------+---------+\n",
            "only showing top 10 rows\n",
            "\n",
            "root\n",
            " |-- ID: integer (nullable = true)\n",
            " |-- STUDENT_ID: integer (nullable = true)\n",
            " |-- SCHEDULE_ID: integer (nullable = true)\n",
            " |-- ACADEMIC_YEAR: string (nullable = true)\n",
            " |-- SEMESTER: integer (nullable = true)\n",
            " |-- ENROLL_DT: string (nullable = true)\n",
            "\n"
          ]
        }
      ]
    },
    {
      "cell_type": "code",
      "source": [
        "#Saya mengubah nama kolomnya agar lebih rapih dan mudah saat melakukan sql join nanti\n",
        "\n",
        "df_enrollment = df_enrollment \\\n",
        "    .withColumnRenamed(\"ID\", \"enrollment_id\") \\\n",
        "    .withColumnRenamed(\"STUDENT_ID\", \"student_id\") \\\n",
        "    .withColumnRenamed(\"SCHEDULE_ID\", \"schedule_id\") \\\n",
        "    .withColumnRenamed(\"ACADEMIC_YEAR\", \"academic_year\") \\\n",
        "    .withColumnRenamed(\"SEMESTER\", \"semester\") \\\n",
        "    .withColumnRenamed(\"ENROLL_DT\", \"enroll_date\")\n",
        "\n",
        "#saya buat format enroll_date nya menjadi format date yang benar\n",
        "\n",
        "df_enrollment = df_enrollment.withColumn('enroll_date',F.to_date('enroll_date', format='dd-MMM-yy'))\n",
        "df_enrollment.show(10)\n",
        "df_enrollment.printSchema()"
      ],
      "metadata": {
        "colab": {
          "base_uri": "https://localhost:8080/"
        },
        "id": "wwBSTawo3Xbi",
        "outputId": "e3b0860e-c9d3-4d9c-d25f-eea00c1e1699"
      },
      "execution_count": 16,
      "outputs": [
        {
          "output_type": "stream",
          "name": "stdout",
          "text": [
            "+-------------+----------+-----------+-------------+--------+-----------+\n",
            "|enrollment_id|student_id|schedule_id|academic_year|semester|enroll_date|\n",
            "+-------------+----------+-----------+-------------+--------+-----------+\n",
            "|            1|         1|          2|    2019/2020|       1| 2019-08-17|\n",
            "|            2|         1|          4|    2019/2020|       1| 2019-08-17|\n",
            "|            3|         2|          1|    2019/2020|       1| 2019-08-17|\n",
            "|            4|         2|          2|    2019/2020|       1| 2019-08-17|\n",
            "|            5|         2|          3|    2019/2020|       1| 2019-08-17|\n",
            "|            6|         6|          1|    2019/2020|       1| 2019-08-17|\n",
            "|            7|         6|          2|    2019/2020|       1| 2019-08-17|\n",
            "|            8|         7|          3|    2019/2020|       1| 2019-08-17|\n",
            "|            9|        10|          4|    2019/2020|       1| 2019-08-17|\n",
            "|           10|         1|          7|    2019/2020|       2| 2019-08-17|\n",
            "+-------------+----------+-----------+-------------+--------+-----------+\n",
            "only showing top 10 rows\n",
            "\n",
            "root\n",
            " |-- enrollment_id: integer (nullable = true)\n",
            " |-- student_id: integer (nullable = true)\n",
            " |-- schedule_id: integer (nullable = true)\n",
            " |-- academic_year: string (nullable = true)\n",
            " |-- semester: integer (nullable = true)\n",
            " |-- enroll_date: date (nullable = true)\n",
            "\n"
          ]
        }
      ]
    },
    {
      "cell_type": "markdown",
      "source": [
        "### **Data Schedule**"
      ],
      "metadata": {
        "id": "vvonusEv64l2"
      }
    },
    {
      "cell_type": "code",
      "source": [
        "df_schedule.show()\n",
        "df_schedule.printSchema()"
      ],
      "metadata": {
        "colab": {
          "base_uri": "https://localhost:8080/"
        },
        "id": "NOUbS31u68UB",
        "outputId": "681ed853-f341-4f28-d260-1fbcc2250004"
      },
      "execution_count": 17,
      "outputs": [
        {
          "output_type": "stream",
          "name": "stdout",
          "text": [
            "+---+---------+-----------+---------+---------+-----------+\n",
            "| ID|COURSE_ID|LECTURER_ID| START_DT|   END_DT|COURSE_DAYS|\n",
            "+---+---------+-----------+---------+---------+-----------+\n",
            "|  1|        1|         11|09-Sep-19|08-Dec-19|      2,4,6|\n",
            "|  2|        3|          4|09-Sep-19|08-Dec-19|        3,4|\n",
            "|  3|        4|         13|09-Sep-19|08-Dec-19|        2,5|\n",
            "|  4|        5|         28|09-Sep-19|08-Dec-19|          3|\n",
            "|  5|        2|         56|27-Jan-20|26-Apr-20|        2,4|\n",
            "|  6|        7|          1|27-Jan-20|26-Apr-20|        4,5|\n",
            "|  7|        1|         11|27-Jan-20|26-Apr-20|      2,4,6|\n",
            "|  8|        7|         22|27-Jan-20|26-Apr-20|        2,3|\n",
            "|  9|        8|         56|27-Jan-20|26-Apr-20|          5|\n",
            "| 10|        3|         37|27-Jan-20|26-Apr-20|        5,6|\n",
            "+---+---------+-----------+---------+---------+-----------+\n",
            "\n",
            "root\n",
            " |-- ID: integer (nullable = true)\n",
            " |-- COURSE_ID: integer (nullable = true)\n",
            " |-- LECTURER_ID: integer (nullable = true)\n",
            " |-- START_DT: string (nullable = true)\n",
            " |-- END_DT: string (nullable = true)\n",
            " |-- COURSE_DAYS: string (nullable = true)\n",
            "\n"
          ]
        }
      ]
    },
    {
      "cell_type": "code",
      "source": [
        "#Saya mengubah nama kolomnya agar lebih rapih dan mudah saat melakukan sql join nanti\n",
        "\n",
        "df_schedule = df_schedule \\\n",
        "    .withColumnRenamed(\"ID\", \"schedule_id\") \\\n",
        "    .withColumnRenamed(\"COURSE_ID\", \"course_id\") \\\n",
        "    .withColumnRenamed(\"LECTURER_ID\", \"lecturer_id\") \\\n",
        "    .withColumnRenamed(\"START_DT\", \"start_date\") \\\n",
        "    .withColumnRenamed(\"END_DT\", \"end_date\") \\\n",
        "    .withColumnRenamed(\"COURSE_DAYS\", \"course_days\")\n",
        "\n",
        "#saya buat format end_date dan start_date nya menjadi format date yang benar\n",
        "\n",
        "df_schedule = df_schedule \\\n",
        "    .withColumn('start_date', F.to_date('start_date', format='dd-MMM-yy')) \\\n",
        "    .withColumn('end_date', F.to_date('end_date', format='dd-MMM-yy'))\n",
        "\n",
        "df_schedule.show()\n",
        "df_schedule.printSchema()"
      ],
      "metadata": {
        "colab": {
          "base_uri": "https://localhost:8080/"
        },
        "id": "ueTqA-bH7FEI",
        "outputId": "2a9ee19f-89ad-4fd3-df04-2b6471cba5aa"
      },
      "execution_count": 18,
      "outputs": [
        {
          "output_type": "stream",
          "name": "stdout",
          "text": [
            "+-----------+---------+-----------+----------+----------+-----------+\n",
            "|schedule_id|course_id|lecturer_id|start_date|  end_date|course_days|\n",
            "+-----------+---------+-----------+----------+----------+-----------+\n",
            "|          1|        1|         11|2019-09-09|2019-12-08|      2,4,6|\n",
            "|          2|        3|          4|2019-09-09|2019-12-08|        3,4|\n",
            "|          3|        4|         13|2019-09-09|2019-12-08|        2,5|\n",
            "|          4|        5|         28|2019-09-09|2019-12-08|          3|\n",
            "|          5|        2|         56|2020-01-27|2020-04-26|        2,4|\n",
            "|          6|        7|          1|2020-01-27|2020-04-26|        4,5|\n",
            "|          7|        1|         11|2020-01-27|2020-04-26|      2,4,6|\n",
            "|          8|        7|         22|2020-01-27|2020-04-26|        2,3|\n",
            "|          9|        8|         56|2020-01-27|2020-04-26|          5|\n",
            "|         10|        3|         37|2020-01-27|2020-04-26|        5,6|\n",
            "+-----------+---------+-----------+----------+----------+-----------+\n",
            "\n",
            "root\n",
            " |-- schedule_id: integer (nullable = true)\n",
            " |-- course_id: integer (nullable = true)\n",
            " |-- lecturer_id: integer (nullable = true)\n",
            " |-- start_date: date (nullable = true)\n",
            " |-- end_date: date (nullable = true)\n",
            " |-- course_days: string (nullable = true)\n",
            "\n"
          ]
        }
      ]
    },
    {
      "cell_type": "code",
      "source": [
        "#Saya membuat urutan hari berdasarkan angka dalam \"days\", kemudian mengubah data pada \"course_day\" menjadi nama hari yang sesuai\n",
        "\n",
        "days = {\n",
        "    \"1\": \"Sunday\",\n",
        "    \"2\": \"Monday\",\n",
        "    \"3\": \"Tuesday\",\n",
        "    \"4\": \"Wednesday\",\n",
        "    \"5\": \"Thursday\",\n",
        "    \"6\": \"Friday\",\n",
        "    \"7\": \"Saturday\"\n",
        "}\n",
        "\n",
        "for day, name in days.items():\n",
        "  df_schedule = df_schedule.withColumn(\"course_days\", expr(f\"replace(course_days, '{day}', '{name}')\"))\n",
        "\n",
        "df_schedule.show()\n",
        "df_schedule.printSchema()"
      ],
      "metadata": {
        "colab": {
          "base_uri": "https://localhost:8080/"
        },
        "id": "RatGNwYiEjKP",
        "outputId": "659399a9-b005-4272-e15d-b6eb7e5b2550"
      },
      "execution_count": 19,
      "outputs": [
        {
          "output_type": "stream",
          "name": "stdout",
          "text": [
            "+-----------+---------+-----------+----------+----------+--------------------+\n",
            "|schedule_id|course_id|lecturer_id|start_date|  end_date|         course_days|\n",
            "+-----------+---------+-----------+----------+----------+--------------------+\n",
            "|          1|        1|         11|2019-09-09|2019-12-08|Monday,Wednesday,...|\n",
            "|          2|        3|          4|2019-09-09|2019-12-08|   Tuesday,Wednesday|\n",
            "|          3|        4|         13|2019-09-09|2019-12-08|     Monday,Thursday|\n",
            "|          4|        5|         28|2019-09-09|2019-12-08|             Tuesday|\n",
            "|          5|        2|         56|2020-01-27|2020-04-26|    Monday,Wednesday|\n",
            "|          6|        7|          1|2020-01-27|2020-04-26|  Wednesday,Thursday|\n",
            "|          7|        1|         11|2020-01-27|2020-04-26|Monday,Wednesday,...|\n",
            "|          8|        7|         22|2020-01-27|2020-04-26|      Monday,Tuesday|\n",
            "|          9|        8|         56|2020-01-27|2020-04-26|            Thursday|\n",
            "|         10|        3|         37|2020-01-27|2020-04-26|     Thursday,Friday|\n",
            "+-----------+---------+-----------+----------+----------+--------------------+\n",
            "\n",
            "root\n",
            " |-- schedule_id: integer (nullable = true)\n",
            " |-- course_id: integer (nullable = true)\n",
            " |-- lecturer_id: integer (nullable = true)\n",
            " |-- start_date: date (nullable = true)\n",
            " |-- end_date: date (nullable = true)\n",
            " |-- course_days: string (nullable = true)\n",
            "\n"
          ]
        }
      ]
    },
    {
      "cell_type": "markdown",
      "source": [
        "## **3. Data Analysis and Visualization**\n",
        "\n",
        "Melakukan analisis terhadap data yang telah dibersihkan dan dirapihkan formatnya, serta melakukan visualisasi dari data yang telah dianalisis."
      ],
      "metadata": {
        "id": "lTI2dMaMhaif"
      }
    },
    {
      "cell_type": "markdown",
      "source": [
        "### **Analisis 1**\n",
        "\n",
        "Mengetahui berapa banyak siswa yang mengikuti pada setiap kursus.\n",
        "\n",
        "Adapaun data yang dibutuhkan dengan melihat semua siswa yang melakukan enrollment ke kursus yang mereka inginkan, sehingga nantinya bisa terhitung mana kursus yang paling diminati dan mana kursus yang paling sedikit diminati."
      ],
      "metadata": {
        "id": "8G8PJPs6he8F"
      }
    },
    {
      "cell_type": "code",
      "source": [
        "df_course.show()\n",
        "df_enrollment.show()\n",
        "df_schedule.show()"
      ],
      "metadata": {
        "colab": {
          "base_uri": "https://localhost:8080/"
        },
        "id": "ZTHOPYI-hiQr",
        "outputId": "eeb2d5b5-d3d8-4b9d-a743-cdbefb9a1d50"
      },
      "execution_count": 20,
      "outputs": [
        {
          "output_type": "stream",
          "name": "stdout",
          "text": [
            "+---------+--------------------+\n",
            "|course_id|         course_name|\n",
            "+---------+--------------------+\n",
            "|        1|Introduction to A...|\n",
            "|        2|Natural Language ...|\n",
            "|        3|         Data Mining|\n",
            "|        4|Applied Data Science|\n",
            "|        5|           Statistic|\n",
            "|        6|Introduction to O...|\n",
            "|        7|  Python Programming|\n",
            "|        8|Information Retri...|\n",
            "|        9|          Blockchain|\n",
            "|       10|  Internet of Things|\n",
            "+---------+--------------------+\n",
            "\n",
            "+-------------+----------+-----------+-------------+--------+-----------+\n",
            "|enrollment_id|student_id|schedule_id|academic_year|semester|enroll_date|\n",
            "+-------------+----------+-----------+-------------+--------+-----------+\n",
            "|            1|         1|          2|    2019/2020|       1| 2019-08-17|\n",
            "|            2|         1|          4|    2019/2020|       1| 2019-08-17|\n",
            "|            3|         2|          1|    2019/2020|       1| 2019-08-17|\n",
            "|            4|         2|          2|    2019/2020|       1| 2019-08-17|\n",
            "|            5|         2|          3|    2019/2020|       1| 2019-08-17|\n",
            "|            6|         6|          1|    2019/2020|       1| 2019-08-17|\n",
            "|            7|         6|          2|    2019/2020|       1| 2019-08-17|\n",
            "|            8|         7|          3|    2019/2020|       1| 2019-08-17|\n",
            "|            9|        10|          4|    2019/2020|       1| 2019-08-17|\n",
            "|           10|         1|          7|    2019/2020|       2| 2019-08-17|\n",
            "|           11|        10|          5|    2019/2020|       2| 2019-08-17|\n",
            "|           12|        10|         10|    2019/2020|       2| 2019-08-17|\n",
            "|           13|        13|          7|    2019/2020|       2| 2019-08-17|\n",
            "|           14|        13|          8|    2019/2020|       2| 2019-08-17|\n",
            "|           15|        13|         10|    2019/2020|       2| 2019-08-17|\n",
            "+-------------+----------+-----------+-------------+--------+-----------+\n",
            "\n",
            "+-----------+---------+-----------+----------+----------+--------------------+\n",
            "|schedule_id|course_id|lecturer_id|start_date|  end_date|         course_days|\n",
            "+-----------+---------+-----------+----------+----------+--------------------+\n",
            "|          1|        1|         11|2019-09-09|2019-12-08|Monday,Wednesday,...|\n",
            "|          2|        3|          4|2019-09-09|2019-12-08|   Tuesday,Wednesday|\n",
            "|          3|        4|         13|2019-09-09|2019-12-08|     Monday,Thursday|\n",
            "|          4|        5|         28|2019-09-09|2019-12-08|             Tuesday|\n",
            "|          5|        2|         56|2020-01-27|2020-04-26|    Monday,Wednesday|\n",
            "|          6|        7|          1|2020-01-27|2020-04-26|  Wednesday,Thursday|\n",
            "|          7|        1|         11|2020-01-27|2020-04-26|Monday,Wednesday,...|\n",
            "|          8|        7|         22|2020-01-27|2020-04-26|      Monday,Tuesday|\n",
            "|          9|        8|         56|2020-01-27|2020-04-26|            Thursday|\n",
            "|         10|        3|         37|2020-01-27|2020-04-26|     Thursday,Friday|\n",
            "+-----------+---------+-----------+----------+----------+--------------------+\n",
            "\n"
          ]
        }
      ]
    },
    {
      "cell_type": "code",
      "source": [
        "#Menggabungkan tabel schedule, enrollment, dan course. Kemudian menggunakan select untuk memperlihatkan data yang lebih rapih\n",
        "\n",
        "df_analys1 = df_schedule \\\n",
        "    .join(df_enrollment, (df_schedule['schedule_id'] == df_enrollment['schedule_id']), 'inner') \\\n",
        "    .join(df_course, (df_course['course_id'] == df_schedule['course_id']), 'inner') \\\n",
        "    .select(\n",
        "            'course_name',\n",
        "            'lecturer_id',\n",
        "            'start_date',\n",
        "            'start_date',\n",
        "            'end_date',\n",
        "            'course_days',\n",
        "            'enrollment_id',\n",
        "            'student_id',\n",
        "            'academic_year',\n",
        "            'semester',\n",
        "            'enroll_date'\n",
        "            )\n",
        "\n",
        "df_analys1.show()"
      ],
      "metadata": {
        "colab": {
          "base_uri": "https://localhost:8080/"
        },
        "id": "j6nJb8bAhkD1",
        "outputId": "6d809a46-008e-4a18-d58f-208ad46298d1"
      },
      "execution_count": 21,
      "outputs": [
        {
          "output_type": "stream",
          "name": "stdout",
          "text": [
            "+--------------------+-----------+----------+----------+----------+--------------------+-------------+----------+-------------+--------+-----------+\n",
            "|         course_name|lecturer_id|start_date|start_date|  end_date|         course_days|enrollment_id|student_id|academic_year|semester|enroll_date|\n",
            "+--------------------+-----------+----------+----------+----------+--------------------+-------------+----------+-------------+--------+-----------+\n",
            "|         Data Mining|          4|2019-09-09|2019-09-09|2019-12-08|   Tuesday,Wednesday|            1|         1|    2019/2020|       1| 2019-08-17|\n",
            "|           Statistic|         28|2019-09-09|2019-09-09|2019-12-08|             Tuesday|            2|         1|    2019/2020|       1| 2019-08-17|\n",
            "|Introduction to A...|         11|2019-09-09|2019-09-09|2019-12-08|Monday,Wednesday,...|            3|         2|    2019/2020|       1| 2019-08-17|\n",
            "|         Data Mining|          4|2019-09-09|2019-09-09|2019-12-08|   Tuesday,Wednesday|            4|         2|    2019/2020|       1| 2019-08-17|\n",
            "|Applied Data Science|         13|2019-09-09|2019-09-09|2019-12-08|     Monday,Thursday|            5|         2|    2019/2020|       1| 2019-08-17|\n",
            "|Introduction to A...|         11|2019-09-09|2019-09-09|2019-12-08|Monday,Wednesday,...|            6|         6|    2019/2020|       1| 2019-08-17|\n",
            "|         Data Mining|          4|2019-09-09|2019-09-09|2019-12-08|   Tuesday,Wednesday|            7|         6|    2019/2020|       1| 2019-08-17|\n",
            "|Applied Data Science|         13|2019-09-09|2019-09-09|2019-12-08|     Monday,Thursday|            8|         7|    2019/2020|       1| 2019-08-17|\n",
            "|           Statistic|         28|2019-09-09|2019-09-09|2019-12-08|             Tuesday|            9|        10|    2019/2020|       1| 2019-08-17|\n",
            "|Introduction to A...|         11|2020-01-27|2020-01-27|2020-04-26|Monday,Wednesday,...|           10|         1|    2019/2020|       2| 2019-08-17|\n",
            "|Natural Language ...|         56|2020-01-27|2020-01-27|2020-04-26|    Monday,Wednesday|           11|        10|    2019/2020|       2| 2019-08-17|\n",
            "|         Data Mining|         37|2020-01-27|2020-01-27|2020-04-26|     Thursday,Friday|           12|        10|    2019/2020|       2| 2019-08-17|\n",
            "|Introduction to A...|         11|2020-01-27|2020-01-27|2020-04-26|Monday,Wednesday,...|           13|        13|    2019/2020|       2| 2019-08-17|\n",
            "|  Python Programming|         22|2020-01-27|2020-01-27|2020-04-26|      Monday,Tuesday|           14|        13|    2019/2020|       2| 2019-08-17|\n",
            "|         Data Mining|         37|2020-01-27|2020-01-27|2020-04-26|     Thursday,Friday|           15|        13|    2019/2020|       2| 2019-08-17|\n",
            "+--------------------+-----------+----------+----------+----------+--------------------+-------------+----------+-------------+--------+-----------+\n",
            "\n"
          ]
        }
      ]
    },
    {
      "cell_type": "code",
      "source": [
        "#Melakukan analisis dengan groupBy kolom \"course_name\" dan menghitung jumlah siswa pada setiap kursus\n",
        "\n",
        "df_analys1_clean = df_analys1 \\\n",
        "    .groupBy('course_name') \\\n",
        "    .count() \\\n",
        "    .withColumnRenamed('count', 'total_student')\n",
        "df_analys1_clean.show()"
      ],
      "metadata": {
        "colab": {
          "base_uri": "https://localhost:8080/"
        },
        "id": "ogHevWuIqVAs",
        "outputId": "86b3c475-a2e4-4b80-ca1d-85f597854c82"
      },
      "execution_count": 22,
      "outputs": [
        {
          "output_type": "stream",
          "name": "stdout",
          "text": [
            "+--------------------+-------------+\n",
            "|         course_name|total_student|\n",
            "+--------------------+-------------+\n",
            "|  Python Programming|            1|\n",
            "|         Data Mining|            5|\n",
            "|           Statistic|            2|\n",
            "|Applied Data Science|            2|\n",
            "|Introduction to A...|            4|\n",
            "|Natural Language ...|            1|\n",
            "+--------------------+-------------+\n",
            "\n"
          ]
        }
      ]
    },
    {
      "cell_type": "code",
      "source": [
        "#Melakukan visualisasi dari data yang telah di analisis\n",
        "\n",
        "pandas_df_analys1_clean = df_analys1_clean.toPandas()\n",
        "fig1 = px.bar(pandas_df_analys1_clean, x='course_name', y='total_student', title= \"Jumlah Siswa Pada Setiap Kursus\")\n",
        "fig1.show()"
      ],
      "metadata": {
        "colab": {
          "base_uri": "https://localhost:8080/",
          "height": 542
        },
        "id": "cppHtDWxc5v9",
        "outputId": "520e148a-e8a3-4010-f64a-028264cc24e9"
      },
      "execution_count": 23,
      "outputs": [
        {
          "output_type": "display_data",
          "data": {
            "text/html": [
              "<html>\n",
              "<head><meta charset=\"utf-8\" /></head>\n",
              "<body>\n",
              "    <div>            <script src=\"https://cdnjs.cloudflare.com/ajax/libs/mathjax/2.7.5/MathJax.js?config=TeX-AMS-MML_SVG\"></script><script type=\"text/javascript\">if (window.MathJax && window.MathJax.Hub && window.MathJax.Hub.Config) {window.MathJax.Hub.Config({SVG: {font: \"STIX-Web\"}});}</script>                <script type=\"text/javascript\">window.PlotlyConfig = {MathJaxConfig: 'local'};</script>\n",
              "        <script charset=\"utf-8\" src=\"https://cdn.plot.ly/plotly-2.24.1.min.js\"></script>                <div id=\"8a0fd07b-4054-4018-a205-8cb839dad50f\" class=\"plotly-graph-div\" style=\"height:525px; width:100%;\"></div>            <script type=\"text/javascript\">                                    window.PLOTLYENV=window.PLOTLYENV || {};                                    if (document.getElementById(\"8a0fd07b-4054-4018-a205-8cb839dad50f\")) {                    Plotly.newPlot(                        \"8a0fd07b-4054-4018-a205-8cb839dad50f\",                        [{\"alignmentgroup\":\"True\",\"hovertemplate\":\"course_name=%{x}\\u003cbr\\u003etotal_student=%{y}\\u003cextra\\u003e\\u003c\\u002fextra\\u003e\",\"legendgroup\":\"\",\"marker\":{\"color\":\"#636efa\",\"pattern\":{\"shape\":\"\"}},\"name\":\"\",\"offsetgroup\":\"\",\"orientation\":\"v\",\"showlegend\":false,\"textposition\":\"auto\",\"x\":[\"Python Programming\",\"Data Mining\",\"Statistic\",\"Applied Data Science\",\"Introduction to Applied Machine Learning\",\"Natural Language Processing\"],\"xaxis\":\"x\",\"y\":[1,5,2,2,4,1],\"yaxis\":\"y\",\"type\":\"bar\"}],                        {\"template\":{\"data\":{\"histogram2dcontour\":[{\"type\":\"histogram2dcontour\",\"colorbar\":{\"outlinewidth\":0,\"ticks\":\"\"},\"colorscale\":[[0.0,\"#0d0887\"],[0.1111111111111111,\"#46039f\"],[0.2222222222222222,\"#7201a8\"],[0.3333333333333333,\"#9c179e\"],[0.4444444444444444,\"#bd3786\"],[0.5555555555555556,\"#d8576b\"],[0.6666666666666666,\"#ed7953\"],[0.7777777777777778,\"#fb9f3a\"],[0.8888888888888888,\"#fdca26\"],[1.0,\"#f0f921\"]]}],\"choropleth\":[{\"type\":\"choropleth\",\"colorbar\":{\"outlinewidth\":0,\"ticks\":\"\"}}],\"histogram2d\":[{\"type\":\"histogram2d\",\"colorbar\":{\"outlinewidth\":0,\"ticks\":\"\"},\"colorscale\":[[0.0,\"#0d0887\"],[0.1111111111111111,\"#46039f\"],[0.2222222222222222,\"#7201a8\"],[0.3333333333333333,\"#9c179e\"],[0.4444444444444444,\"#bd3786\"],[0.5555555555555556,\"#d8576b\"],[0.6666666666666666,\"#ed7953\"],[0.7777777777777778,\"#fb9f3a\"],[0.8888888888888888,\"#fdca26\"],[1.0,\"#f0f921\"]]}],\"heatmap\":[{\"type\":\"heatmap\",\"colorbar\":{\"outlinewidth\":0,\"ticks\":\"\"},\"colorscale\":[[0.0,\"#0d0887\"],[0.1111111111111111,\"#46039f\"],[0.2222222222222222,\"#7201a8\"],[0.3333333333333333,\"#9c179e\"],[0.4444444444444444,\"#bd3786\"],[0.5555555555555556,\"#d8576b\"],[0.6666666666666666,\"#ed7953\"],[0.7777777777777778,\"#fb9f3a\"],[0.8888888888888888,\"#fdca26\"],[1.0,\"#f0f921\"]]}],\"heatmapgl\":[{\"type\":\"heatmapgl\",\"colorbar\":{\"outlinewidth\":0,\"ticks\":\"\"},\"colorscale\":[[0.0,\"#0d0887\"],[0.1111111111111111,\"#46039f\"],[0.2222222222222222,\"#7201a8\"],[0.3333333333333333,\"#9c179e\"],[0.4444444444444444,\"#bd3786\"],[0.5555555555555556,\"#d8576b\"],[0.6666666666666666,\"#ed7953\"],[0.7777777777777778,\"#fb9f3a\"],[0.8888888888888888,\"#fdca26\"],[1.0,\"#f0f921\"]]}],\"contourcarpet\":[{\"type\":\"contourcarpet\",\"colorbar\":{\"outlinewidth\":0,\"ticks\":\"\"}}],\"contour\":[{\"type\":\"contour\",\"colorbar\":{\"outlinewidth\":0,\"ticks\":\"\"},\"colorscale\":[[0.0,\"#0d0887\"],[0.1111111111111111,\"#46039f\"],[0.2222222222222222,\"#7201a8\"],[0.3333333333333333,\"#9c179e\"],[0.4444444444444444,\"#bd3786\"],[0.5555555555555556,\"#d8576b\"],[0.6666666666666666,\"#ed7953\"],[0.7777777777777778,\"#fb9f3a\"],[0.8888888888888888,\"#fdca26\"],[1.0,\"#f0f921\"]]}],\"surface\":[{\"type\":\"surface\",\"colorbar\":{\"outlinewidth\":0,\"ticks\":\"\"},\"colorscale\":[[0.0,\"#0d0887\"],[0.1111111111111111,\"#46039f\"],[0.2222222222222222,\"#7201a8\"],[0.3333333333333333,\"#9c179e\"],[0.4444444444444444,\"#bd3786\"],[0.5555555555555556,\"#d8576b\"],[0.6666666666666666,\"#ed7953\"],[0.7777777777777778,\"#fb9f3a\"],[0.8888888888888888,\"#fdca26\"],[1.0,\"#f0f921\"]]}],\"mesh3d\":[{\"type\":\"mesh3d\",\"colorbar\":{\"outlinewidth\":0,\"ticks\":\"\"}}],\"scatter\":[{\"fillpattern\":{\"fillmode\":\"overlay\",\"size\":10,\"solidity\":0.2},\"type\":\"scatter\"}],\"parcoords\":[{\"type\":\"parcoords\",\"line\":{\"colorbar\":{\"outlinewidth\":0,\"ticks\":\"\"}}}],\"scatterpolargl\":[{\"type\":\"scatterpolargl\",\"marker\":{\"colorbar\":{\"outlinewidth\":0,\"ticks\":\"\"}}}],\"bar\":[{\"error_x\":{\"color\":\"#2a3f5f\"},\"error_y\":{\"color\":\"#2a3f5f\"},\"marker\":{\"line\":{\"color\":\"#E5ECF6\",\"width\":0.5},\"pattern\":{\"fillmode\":\"overlay\",\"size\":10,\"solidity\":0.2}},\"type\":\"bar\"}],\"scattergeo\":[{\"type\":\"scattergeo\",\"marker\":{\"colorbar\":{\"outlinewidth\":0,\"ticks\":\"\"}}}],\"scatterpolar\":[{\"type\":\"scatterpolar\",\"marker\":{\"colorbar\":{\"outlinewidth\":0,\"ticks\":\"\"}}}],\"histogram\":[{\"marker\":{\"pattern\":{\"fillmode\":\"overlay\",\"size\":10,\"solidity\":0.2}},\"type\":\"histogram\"}],\"scattergl\":[{\"type\":\"scattergl\",\"marker\":{\"colorbar\":{\"outlinewidth\":0,\"ticks\":\"\"}}}],\"scatter3d\":[{\"type\":\"scatter3d\",\"line\":{\"colorbar\":{\"outlinewidth\":0,\"ticks\":\"\"}},\"marker\":{\"colorbar\":{\"outlinewidth\":0,\"ticks\":\"\"}}}],\"scattermapbox\":[{\"type\":\"scattermapbox\",\"marker\":{\"colorbar\":{\"outlinewidth\":0,\"ticks\":\"\"}}}],\"scatterternary\":[{\"type\":\"scatterternary\",\"marker\":{\"colorbar\":{\"outlinewidth\":0,\"ticks\":\"\"}}}],\"scattercarpet\":[{\"type\":\"scattercarpet\",\"marker\":{\"colorbar\":{\"outlinewidth\":0,\"ticks\":\"\"}}}],\"carpet\":[{\"aaxis\":{\"endlinecolor\":\"#2a3f5f\",\"gridcolor\":\"white\",\"linecolor\":\"white\",\"minorgridcolor\":\"white\",\"startlinecolor\":\"#2a3f5f\"},\"baxis\":{\"endlinecolor\":\"#2a3f5f\",\"gridcolor\":\"white\",\"linecolor\":\"white\",\"minorgridcolor\":\"white\",\"startlinecolor\":\"#2a3f5f\"},\"type\":\"carpet\"}],\"table\":[{\"cells\":{\"fill\":{\"color\":\"#EBF0F8\"},\"line\":{\"color\":\"white\"}},\"header\":{\"fill\":{\"color\":\"#C8D4E3\"},\"line\":{\"color\":\"white\"}},\"type\":\"table\"}],\"barpolar\":[{\"marker\":{\"line\":{\"color\":\"#E5ECF6\",\"width\":0.5},\"pattern\":{\"fillmode\":\"overlay\",\"size\":10,\"solidity\":0.2}},\"type\":\"barpolar\"}],\"pie\":[{\"automargin\":true,\"type\":\"pie\"}]},\"layout\":{\"autotypenumbers\":\"strict\",\"colorway\":[\"#636efa\",\"#EF553B\",\"#00cc96\",\"#ab63fa\",\"#FFA15A\",\"#19d3f3\",\"#FF6692\",\"#B6E880\",\"#FF97FF\",\"#FECB52\"],\"font\":{\"color\":\"#2a3f5f\"},\"hovermode\":\"closest\",\"hoverlabel\":{\"align\":\"left\"},\"paper_bgcolor\":\"white\",\"plot_bgcolor\":\"#E5ECF6\",\"polar\":{\"bgcolor\":\"#E5ECF6\",\"angularaxis\":{\"gridcolor\":\"white\",\"linecolor\":\"white\",\"ticks\":\"\"},\"radialaxis\":{\"gridcolor\":\"white\",\"linecolor\":\"white\",\"ticks\":\"\"}},\"ternary\":{\"bgcolor\":\"#E5ECF6\",\"aaxis\":{\"gridcolor\":\"white\",\"linecolor\":\"white\",\"ticks\":\"\"},\"baxis\":{\"gridcolor\":\"white\",\"linecolor\":\"white\",\"ticks\":\"\"},\"caxis\":{\"gridcolor\":\"white\",\"linecolor\":\"white\",\"ticks\":\"\"}},\"coloraxis\":{\"colorbar\":{\"outlinewidth\":0,\"ticks\":\"\"}},\"colorscale\":{\"sequential\":[[0.0,\"#0d0887\"],[0.1111111111111111,\"#46039f\"],[0.2222222222222222,\"#7201a8\"],[0.3333333333333333,\"#9c179e\"],[0.4444444444444444,\"#bd3786\"],[0.5555555555555556,\"#d8576b\"],[0.6666666666666666,\"#ed7953\"],[0.7777777777777778,\"#fb9f3a\"],[0.8888888888888888,\"#fdca26\"],[1.0,\"#f0f921\"]],\"sequentialminus\":[[0.0,\"#0d0887\"],[0.1111111111111111,\"#46039f\"],[0.2222222222222222,\"#7201a8\"],[0.3333333333333333,\"#9c179e\"],[0.4444444444444444,\"#bd3786\"],[0.5555555555555556,\"#d8576b\"],[0.6666666666666666,\"#ed7953\"],[0.7777777777777778,\"#fb9f3a\"],[0.8888888888888888,\"#fdca26\"],[1.0,\"#f0f921\"]],\"diverging\":[[0,\"#8e0152\"],[0.1,\"#c51b7d\"],[0.2,\"#de77ae\"],[0.3,\"#f1b6da\"],[0.4,\"#fde0ef\"],[0.5,\"#f7f7f7\"],[0.6,\"#e6f5d0\"],[0.7,\"#b8e186\"],[0.8,\"#7fbc41\"],[0.9,\"#4d9221\"],[1,\"#276419\"]]},\"xaxis\":{\"gridcolor\":\"white\",\"linecolor\":\"white\",\"ticks\":\"\",\"title\":{\"standoff\":15},\"zerolinecolor\":\"white\",\"automargin\":true,\"zerolinewidth\":2},\"yaxis\":{\"gridcolor\":\"white\",\"linecolor\":\"white\",\"ticks\":\"\",\"title\":{\"standoff\":15},\"zerolinecolor\":\"white\",\"automargin\":true,\"zerolinewidth\":2},\"scene\":{\"xaxis\":{\"backgroundcolor\":\"#E5ECF6\",\"gridcolor\":\"white\",\"linecolor\":\"white\",\"showbackground\":true,\"ticks\":\"\",\"zerolinecolor\":\"white\",\"gridwidth\":2},\"yaxis\":{\"backgroundcolor\":\"#E5ECF6\",\"gridcolor\":\"white\",\"linecolor\":\"white\",\"showbackground\":true,\"ticks\":\"\",\"zerolinecolor\":\"white\",\"gridwidth\":2},\"zaxis\":{\"backgroundcolor\":\"#E5ECF6\",\"gridcolor\":\"white\",\"linecolor\":\"white\",\"showbackground\":true,\"ticks\":\"\",\"zerolinecolor\":\"white\",\"gridwidth\":2}},\"shapedefaults\":{\"line\":{\"color\":\"#2a3f5f\"}},\"annotationdefaults\":{\"arrowcolor\":\"#2a3f5f\",\"arrowhead\":0,\"arrowwidth\":1},\"geo\":{\"bgcolor\":\"white\",\"landcolor\":\"#E5ECF6\",\"subunitcolor\":\"white\",\"showland\":true,\"showlakes\":true,\"lakecolor\":\"white\"},\"title\":{\"x\":0.05},\"mapbox\":{\"style\":\"light\"}}},\"xaxis\":{\"anchor\":\"y\",\"domain\":[0.0,1.0],\"title\":{\"text\":\"course_name\"}},\"yaxis\":{\"anchor\":\"x\",\"domain\":[0.0,1.0],\"title\":{\"text\":\"total_student\"}},\"legend\":{\"tracegroupgap\":0},\"title\":{\"text\":\"Jumlah Siswa Pada Setiap Kursus\"},\"barmode\":\"relative\"},                        {\"responsive\": true}                    ).then(function(){\n",
              "                            \n",
              "var gd = document.getElementById('8a0fd07b-4054-4018-a205-8cb839dad50f');\n",
              "var x = new MutationObserver(function (mutations, observer) {{\n",
              "        var display = window.getComputedStyle(gd).display;\n",
              "        if (!display || display === 'none') {{\n",
              "            console.log([gd, 'removed!']);\n",
              "            Plotly.purge(gd);\n",
              "            observer.disconnect();\n",
              "        }}\n",
              "}});\n",
              "\n",
              "// Listen for the removal of the full notebook cells\n",
              "var notebookContainer = gd.closest('#notebook-container');\n",
              "if (notebookContainer) {{\n",
              "    x.observe(notebookContainer, {childList: true});\n",
              "}}\n",
              "\n",
              "// Listen for the clearing of the current output cell\n",
              "var outputEl = gd.closest('.output');\n",
              "if (outputEl) {{\n",
              "    x.observe(outputEl, {childList: true});\n",
              "}}\n",
              "\n",
              "                        })                };                            </script>        </div>\n",
              "</body>\n",
              "</html>"
            ]
          },
          "metadata": {}
        }
      ]
    },
    {
      "cell_type": "markdown",
      "source": [
        "### **Analisis 2**\n",
        "\n",
        "Mengetahui total kehadiran siswa pada setiap kursus di tahun 2019 dan 2020.\n",
        "\n",
        "Adapun data yang dibutuhkan adalah data absensi siswa pada kursus yang telah mereka pilih. Sehingga nantinya dapat ditentukan kursus mana yang memiliki tingkat kehadiran siswa yang tinggi dan mana yang memiliki tingkat kehadiran yang rendah pada tahun 2019 dan 2020."
      ],
      "metadata": {
        "id": "fVXgf7vSwcDk"
      }
    },
    {
      "cell_type": "code",
      "source": [
        "df_course_attendance.show(5)\n",
        "df_course.show()\n",
        "df_schedule.show()"
      ],
      "metadata": {
        "colab": {
          "base_uri": "https://localhost:8080/"
        },
        "id": "DUHIap1Zwe-S",
        "outputId": "9bbd5ef9-6c0c-4895-caf5-e376bc9dd515"
      },
      "execution_count": 24,
      "outputs": [
        {
          "output_type": "stream",
          "name": "stdout",
          "text": [
            "+-----+----------+-----------+-----------+\n",
            "|ca_id|student_id|schedule_id|attend_date|\n",
            "+-----+----------+-----------+-----------+\n",
            "|    1|         1|          2| 2019-09-10|\n",
            "|    2|         1|          2| 2019-09-11|\n",
            "|    3|         1|          2| 2019-09-17|\n",
            "|    4|         1|          2| 2019-09-18|\n",
            "|    5|         1|          2| 2019-09-24|\n",
            "+-----+----------+-----------+-----------+\n",
            "only showing top 5 rows\n",
            "\n",
            "+---------+--------------------+\n",
            "|course_id|         course_name|\n",
            "+---------+--------------------+\n",
            "|        1|Introduction to A...|\n",
            "|        2|Natural Language ...|\n",
            "|        3|         Data Mining|\n",
            "|        4|Applied Data Science|\n",
            "|        5|           Statistic|\n",
            "|        6|Introduction to O...|\n",
            "|        7|  Python Programming|\n",
            "|        8|Information Retri...|\n",
            "|        9|          Blockchain|\n",
            "|       10|  Internet of Things|\n",
            "+---------+--------------------+\n",
            "\n",
            "+-----------+---------+-----------+----------+----------+--------------------+\n",
            "|schedule_id|course_id|lecturer_id|start_date|  end_date|         course_days|\n",
            "+-----------+---------+-----------+----------+----------+--------------------+\n",
            "|          1|        1|         11|2019-09-09|2019-12-08|Monday,Wednesday,...|\n",
            "|          2|        3|          4|2019-09-09|2019-12-08|   Tuesday,Wednesday|\n",
            "|          3|        4|         13|2019-09-09|2019-12-08|     Monday,Thursday|\n",
            "|          4|        5|         28|2019-09-09|2019-12-08|             Tuesday|\n",
            "|          5|        2|         56|2020-01-27|2020-04-26|    Monday,Wednesday|\n",
            "|          6|        7|          1|2020-01-27|2020-04-26|  Wednesday,Thursday|\n",
            "|          7|        1|         11|2020-01-27|2020-04-26|Monday,Wednesday,...|\n",
            "|          8|        7|         22|2020-01-27|2020-04-26|      Monday,Tuesday|\n",
            "|          9|        8|         56|2020-01-27|2020-04-26|            Thursday|\n",
            "|         10|        3|         37|2020-01-27|2020-04-26|     Thursday,Friday|\n",
            "+-----------+---------+-----------+----------+----------+--------------------+\n",
            "\n"
          ]
        }
      ]
    },
    {
      "cell_type": "code",
      "source": [
        "#Menggabungkan tabel course_attendance, schedule, dan course. Kemudian menggunakan select untuk memperlihatkan data yang lebih rapih\n",
        "\n",
        "df_analys2 = df_course_attendance \\\n",
        "    .join(df_schedule, (df_course_attendance['schedule_id'] == df_schedule['schedule_id']), 'inner') \\\n",
        "    .join(df_course, (df_course['course_id'] == df_schedule['course_id']), 'inner') \\\n",
        "    .select(\n",
        "        'ca_id',\n",
        "        'student_id',\n",
        "        'course_name',\n",
        "        'course_days',\n",
        "        'attend_date',\n",
        "        'start_date',\n",
        "        'end_date'\n",
        "    )\n",
        "\n",
        "df_analys2.show(10)"
      ],
      "metadata": {
        "colab": {
          "base_uri": "https://localhost:8080/"
        },
        "id": "vVfHXxKAyac-",
        "outputId": "19d26ccd-60e5-49e3-90c6-08d3bf087319"
      },
      "execution_count": 25,
      "outputs": [
        {
          "output_type": "stream",
          "name": "stdout",
          "text": [
            "+-----+----------+-----------+-----------------+-----------+----------+----------+\n",
            "|ca_id|student_id|course_name|      course_days|attend_date|start_date|  end_date|\n",
            "+-----+----------+-----------+-----------------+-----------+----------+----------+\n",
            "|    1|         1|Data Mining|Tuesday,Wednesday| 2019-09-10|2019-09-09|2019-12-08|\n",
            "|    2|         1|Data Mining|Tuesday,Wednesday| 2019-09-11|2019-09-09|2019-12-08|\n",
            "|    3|         1|Data Mining|Tuesday,Wednesday| 2019-09-17|2019-09-09|2019-12-08|\n",
            "|    4|         1|Data Mining|Tuesday,Wednesday| 2019-09-18|2019-09-09|2019-12-08|\n",
            "|    5|         1|Data Mining|Tuesday,Wednesday| 2019-09-24|2019-09-09|2019-12-08|\n",
            "|    6|         1|Data Mining|Tuesday,Wednesday| 2019-09-25|2019-09-09|2019-12-08|\n",
            "|    7|         1|Data Mining|Tuesday,Wednesday| 2019-10-01|2019-09-09|2019-12-08|\n",
            "|    8|         1|Data Mining|Tuesday,Wednesday| 2019-10-02|2019-09-09|2019-12-08|\n",
            "|    9|         1|Data Mining|Tuesday,Wednesday| 2019-10-08|2019-09-09|2019-12-08|\n",
            "|   10|         1|Data Mining|Tuesday,Wednesday| 2019-10-09|2019-09-09|2019-12-08|\n",
            "+-----+----------+-----------+-----------------+-----------+----------+----------+\n",
            "only showing top 10 rows\n",
            "\n"
          ]
        }
      ]
    },
    {
      "cell_type": "code",
      "source": [
        "#Melakukan filtering dan analisis berdasarkan data sesuai dengan kondisi yang dinginkan, yaitu data pada tahun 2019\n",
        "\n",
        "df_analys2_filtered_2019 = df_analys2 \\\n",
        "    .filter(year(col('attend_date')) == 2019) \\\n",
        "    .groupBy('course_name').count().withColumnRenamed('count', 'total_attend')\n",
        "\n",
        "df_analys2_filtered_2019.show(10)"
      ],
      "metadata": {
        "colab": {
          "base_uri": "https://localhost:8080/"
        },
        "id": "hUotHcPJ-W2a",
        "outputId": "0a15120c-0dc8-4df5-f17b-7a0fe4d6d874"
      },
      "execution_count": 26,
      "outputs": [
        {
          "output_type": "stream",
          "name": "stdout",
          "text": [
            "+--------------------+------------+\n",
            "|         course_name|total_attend|\n",
            "+--------------------+------------+\n",
            "|         Data Mining|          78|\n",
            "|           Statistic|          19|\n",
            "|Applied Data Science|          44|\n",
            "|Introduction to A...|          66|\n",
            "+--------------------+------------+\n",
            "\n"
          ]
        }
      ]
    },
    {
      "cell_type": "code",
      "source": [
        "#Melakukan visualisasi dari data yang telah di analisis khususnya data tahun 2019\n",
        "\n",
        "pandas_df_analys2_filtered_2019 = df_analys2_filtered_2019.toPandas()\n",
        "fig2a = px.bar(pandas_df_analys2_filtered_2019, x='course_name', y='total_attend', title= \"Total Kehadiran Siswa Tahun 2019\")\n",
        "fig2a.show()"
      ],
      "metadata": {
        "colab": {
          "base_uri": "https://localhost:8080/",
          "height": 0
        },
        "id": "J8b1Q_DjwYNb",
        "outputId": "f255f6be-b887-4385-e159-950acc108920"
      },
      "execution_count": 27,
      "outputs": [
        {
          "output_type": "display_data",
          "data": {
            "text/html": [
              "<html>\n",
              "<head><meta charset=\"utf-8\" /></head>\n",
              "<body>\n",
              "    <div>            <script src=\"https://cdnjs.cloudflare.com/ajax/libs/mathjax/2.7.5/MathJax.js?config=TeX-AMS-MML_SVG\"></script><script type=\"text/javascript\">if (window.MathJax && window.MathJax.Hub && window.MathJax.Hub.Config) {window.MathJax.Hub.Config({SVG: {font: \"STIX-Web\"}});}</script>                <script type=\"text/javascript\">window.PlotlyConfig = {MathJaxConfig: 'local'};</script>\n",
              "        <script charset=\"utf-8\" src=\"https://cdn.plot.ly/plotly-2.24.1.min.js\"></script>                <div id=\"b411c51f-dbbd-41d1-a29c-fc78dc39d182\" class=\"plotly-graph-div\" style=\"height:525px; width:100%;\"></div>            <script type=\"text/javascript\">                                    window.PLOTLYENV=window.PLOTLYENV || {};                                    if (document.getElementById(\"b411c51f-dbbd-41d1-a29c-fc78dc39d182\")) {                    Plotly.newPlot(                        \"b411c51f-dbbd-41d1-a29c-fc78dc39d182\",                        [{\"alignmentgroup\":\"True\",\"hovertemplate\":\"course_name=%{x}\\u003cbr\\u003etotal_attend=%{y}\\u003cextra\\u003e\\u003c\\u002fextra\\u003e\",\"legendgroup\":\"\",\"marker\":{\"color\":\"#636efa\",\"pattern\":{\"shape\":\"\"}},\"name\":\"\",\"offsetgroup\":\"\",\"orientation\":\"v\",\"showlegend\":false,\"textposition\":\"auto\",\"x\":[\"Data Mining\",\"Statistic\",\"Applied Data Science\",\"Introduction to Applied Machine Learning\"],\"xaxis\":\"x\",\"y\":[78,19,44,66],\"yaxis\":\"y\",\"type\":\"bar\"}],                        {\"template\":{\"data\":{\"histogram2dcontour\":[{\"type\":\"histogram2dcontour\",\"colorbar\":{\"outlinewidth\":0,\"ticks\":\"\"},\"colorscale\":[[0.0,\"#0d0887\"],[0.1111111111111111,\"#46039f\"],[0.2222222222222222,\"#7201a8\"],[0.3333333333333333,\"#9c179e\"],[0.4444444444444444,\"#bd3786\"],[0.5555555555555556,\"#d8576b\"],[0.6666666666666666,\"#ed7953\"],[0.7777777777777778,\"#fb9f3a\"],[0.8888888888888888,\"#fdca26\"],[1.0,\"#f0f921\"]]}],\"choropleth\":[{\"type\":\"choropleth\",\"colorbar\":{\"outlinewidth\":0,\"ticks\":\"\"}}],\"histogram2d\":[{\"type\":\"histogram2d\",\"colorbar\":{\"outlinewidth\":0,\"ticks\":\"\"},\"colorscale\":[[0.0,\"#0d0887\"],[0.1111111111111111,\"#46039f\"],[0.2222222222222222,\"#7201a8\"],[0.3333333333333333,\"#9c179e\"],[0.4444444444444444,\"#bd3786\"],[0.5555555555555556,\"#d8576b\"],[0.6666666666666666,\"#ed7953\"],[0.7777777777777778,\"#fb9f3a\"],[0.8888888888888888,\"#fdca26\"],[1.0,\"#f0f921\"]]}],\"heatmap\":[{\"type\":\"heatmap\",\"colorbar\":{\"outlinewidth\":0,\"ticks\":\"\"},\"colorscale\":[[0.0,\"#0d0887\"],[0.1111111111111111,\"#46039f\"],[0.2222222222222222,\"#7201a8\"],[0.3333333333333333,\"#9c179e\"],[0.4444444444444444,\"#bd3786\"],[0.5555555555555556,\"#d8576b\"],[0.6666666666666666,\"#ed7953\"],[0.7777777777777778,\"#fb9f3a\"],[0.8888888888888888,\"#fdca26\"],[1.0,\"#f0f921\"]]}],\"heatmapgl\":[{\"type\":\"heatmapgl\",\"colorbar\":{\"outlinewidth\":0,\"ticks\":\"\"},\"colorscale\":[[0.0,\"#0d0887\"],[0.1111111111111111,\"#46039f\"],[0.2222222222222222,\"#7201a8\"],[0.3333333333333333,\"#9c179e\"],[0.4444444444444444,\"#bd3786\"],[0.5555555555555556,\"#d8576b\"],[0.6666666666666666,\"#ed7953\"],[0.7777777777777778,\"#fb9f3a\"],[0.8888888888888888,\"#fdca26\"],[1.0,\"#f0f921\"]]}],\"contourcarpet\":[{\"type\":\"contourcarpet\",\"colorbar\":{\"outlinewidth\":0,\"ticks\":\"\"}}],\"contour\":[{\"type\":\"contour\",\"colorbar\":{\"outlinewidth\":0,\"ticks\":\"\"},\"colorscale\":[[0.0,\"#0d0887\"],[0.1111111111111111,\"#46039f\"],[0.2222222222222222,\"#7201a8\"],[0.3333333333333333,\"#9c179e\"],[0.4444444444444444,\"#bd3786\"],[0.5555555555555556,\"#d8576b\"],[0.6666666666666666,\"#ed7953\"],[0.7777777777777778,\"#fb9f3a\"],[0.8888888888888888,\"#fdca26\"],[1.0,\"#f0f921\"]]}],\"surface\":[{\"type\":\"surface\",\"colorbar\":{\"outlinewidth\":0,\"ticks\":\"\"},\"colorscale\":[[0.0,\"#0d0887\"],[0.1111111111111111,\"#46039f\"],[0.2222222222222222,\"#7201a8\"],[0.3333333333333333,\"#9c179e\"],[0.4444444444444444,\"#bd3786\"],[0.5555555555555556,\"#d8576b\"],[0.6666666666666666,\"#ed7953\"],[0.7777777777777778,\"#fb9f3a\"],[0.8888888888888888,\"#fdca26\"],[1.0,\"#f0f921\"]]}],\"mesh3d\":[{\"type\":\"mesh3d\",\"colorbar\":{\"outlinewidth\":0,\"ticks\":\"\"}}],\"scatter\":[{\"fillpattern\":{\"fillmode\":\"overlay\",\"size\":10,\"solidity\":0.2},\"type\":\"scatter\"}],\"parcoords\":[{\"type\":\"parcoords\",\"line\":{\"colorbar\":{\"outlinewidth\":0,\"ticks\":\"\"}}}],\"scatterpolargl\":[{\"type\":\"scatterpolargl\",\"marker\":{\"colorbar\":{\"outlinewidth\":0,\"ticks\":\"\"}}}],\"bar\":[{\"error_x\":{\"color\":\"#2a3f5f\"},\"error_y\":{\"color\":\"#2a3f5f\"},\"marker\":{\"line\":{\"color\":\"#E5ECF6\",\"width\":0.5},\"pattern\":{\"fillmode\":\"overlay\",\"size\":10,\"solidity\":0.2}},\"type\":\"bar\"}],\"scattergeo\":[{\"type\":\"scattergeo\",\"marker\":{\"colorbar\":{\"outlinewidth\":0,\"ticks\":\"\"}}}],\"scatterpolar\":[{\"type\":\"scatterpolar\",\"marker\":{\"colorbar\":{\"outlinewidth\":0,\"ticks\":\"\"}}}],\"histogram\":[{\"marker\":{\"pattern\":{\"fillmode\":\"overlay\",\"size\":10,\"solidity\":0.2}},\"type\":\"histogram\"}],\"scattergl\":[{\"type\":\"scattergl\",\"marker\":{\"colorbar\":{\"outlinewidth\":0,\"ticks\":\"\"}}}],\"scatter3d\":[{\"type\":\"scatter3d\",\"line\":{\"colorbar\":{\"outlinewidth\":0,\"ticks\":\"\"}},\"marker\":{\"colorbar\":{\"outlinewidth\":0,\"ticks\":\"\"}}}],\"scattermapbox\":[{\"type\":\"scattermapbox\",\"marker\":{\"colorbar\":{\"outlinewidth\":0,\"ticks\":\"\"}}}],\"scatterternary\":[{\"type\":\"scatterternary\",\"marker\":{\"colorbar\":{\"outlinewidth\":0,\"ticks\":\"\"}}}],\"scattercarpet\":[{\"type\":\"scattercarpet\",\"marker\":{\"colorbar\":{\"outlinewidth\":0,\"ticks\":\"\"}}}],\"carpet\":[{\"aaxis\":{\"endlinecolor\":\"#2a3f5f\",\"gridcolor\":\"white\",\"linecolor\":\"white\",\"minorgridcolor\":\"white\",\"startlinecolor\":\"#2a3f5f\"},\"baxis\":{\"endlinecolor\":\"#2a3f5f\",\"gridcolor\":\"white\",\"linecolor\":\"white\",\"minorgridcolor\":\"white\",\"startlinecolor\":\"#2a3f5f\"},\"type\":\"carpet\"}],\"table\":[{\"cells\":{\"fill\":{\"color\":\"#EBF0F8\"},\"line\":{\"color\":\"white\"}},\"header\":{\"fill\":{\"color\":\"#C8D4E3\"},\"line\":{\"color\":\"white\"}},\"type\":\"table\"}],\"barpolar\":[{\"marker\":{\"line\":{\"color\":\"#E5ECF6\",\"width\":0.5},\"pattern\":{\"fillmode\":\"overlay\",\"size\":10,\"solidity\":0.2}},\"type\":\"barpolar\"}],\"pie\":[{\"automargin\":true,\"type\":\"pie\"}]},\"layout\":{\"autotypenumbers\":\"strict\",\"colorway\":[\"#636efa\",\"#EF553B\",\"#00cc96\",\"#ab63fa\",\"#FFA15A\",\"#19d3f3\",\"#FF6692\",\"#B6E880\",\"#FF97FF\",\"#FECB52\"],\"font\":{\"color\":\"#2a3f5f\"},\"hovermode\":\"closest\",\"hoverlabel\":{\"align\":\"left\"},\"paper_bgcolor\":\"white\",\"plot_bgcolor\":\"#E5ECF6\",\"polar\":{\"bgcolor\":\"#E5ECF6\",\"angularaxis\":{\"gridcolor\":\"white\",\"linecolor\":\"white\",\"ticks\":\"\"},\"radialaxis\":{\"gridcolor\":\"white\",\"linecolor\":\"white\",\"ticks\":\"\"}},\"ternary\":{\"bgcolor\":\"#E5ECF6\",\"aaxis\":{\"gridcolor\":\"white\",\"linecolor\":\"white\",\"ticks\":\"\"},\"baxis\":{\"gridcolor\":\"white\",\"linecolor\":\"white\",\"ticks\":\"\"},\"caxis\":{\"gridcolor\":\"white\",\"linecolor\":\"white\",\"ticks\":\"\"}},\"coloraxis\":{\"colorbar\":{\"outlinewidth\":0,\"ticks\":\"\"}},\"colorscale\":{\"sequential\":[[0.0,\"#0d0887\"],[0.1111111111111111,\"#46039f\"],[0.2222222222222222,\"#7201a8\"],[0.3333333333333333,\"#9c179e\"],[0.4444444444444444,\"#bd3786\"],[0.5555555555555556,\"#d8576b\"],[0.6666666666666666,\"#ed7953\"],[0.7777777777777778,\"#fb9f3a\"],[0.8888888888888888,\"#fdca26\"],[1.0,\"#f0f921\"]],\"sequentialminus\":[[0.0,\"#0d0887\"],[0.1111111111111111,\"#46039f\"],[0.2222222222222222,\"#7201a8\"],[0.3333333333333333,\"#9c179e\"],[0.4444444444444444,\"#bd3786\"],[0.5555555555555556,\"#d8576b\"],[0.6666666666666666,\"#ed7953\"],[0.7777777777777778,\"#fb9f3a\"],[0.8888888888888888,\"#fdca26\"],[1.0,\"#f0f921\"]],\"diverging\":[[0,\"#8e0152\"],[0.1,\"#c51b7d\"],[0.2,\"#de77ae\"],[0.3,\"#f1b6da\"],[0.4,\"#fde0ef\"],[0.5,\"#f7f7f7\"],[0.6,\"#e6f5d0\"],[0.7,\"#b8e186\"],[0.8,\"#7fbc41\"],[0.9,\"#4d9221\"],[1,\"#276419\"]]},\"xaxis\":{\"gridcolor\":\"white\",\"linecolor\":\"white\",\"ticks\":\"\",\"title\":{\"standoff\":15},\"zerolinecolor\":\"white\",\"automargin\":true,\"zerolinewidth\":2},\"yaxis\":{\"gridcolor\":\"white\",\"linecolor\":\"white\",\"ticks\":\"\",\"title\":{\"standoff\":15},\"zerolinecolor\":\"white\",\"automargin\":true,\"zerolinewidth\":2},\"scene\":{\"xaxis\":{\"backgroundcolor\":\"#E5ECF6\",\"gridcolor\":\"white\",\"linecolor\":\"white\",\"showbackground\":true,\"ticks\":\"\",\"zerolinecolor\":\"white\",\"gridwidth\":2},\"yaxis\":{\"backgroundcolor\":\"#E5ECF6\",\"gridcolor\":\"white\",\"linecolor\":\"white\",\"showbackground\":true,\"ticks\":\"\",\"zerolinecolor\":\"white\",\"gridwidth\":2},\"zaxis\":{\"backgroundcolor\":\"#E5ECF6\",\"gridcolor\":\"white\",\"linecolor\":\"white\",\"showbackground\":true,\"ticks\":\"\",\"zerolinecolor\":\"white\",\"gridwidth\":2}},\"shapedefaults\":{\"line\":{\"color\":\"#2a3f5f\"}},\"annotationdefaults\":{\"arrowcolor\":\"#2a3f5f\",\"arrowhead\":0,\"arrowwidth\":1},\"geo\":{\"bgcolor\":\"white\",\"landcolor\":\"#E5ECF6\",\"subunitcolor\":\"white\",\"showland\":true,\"showlakes\":true,\"lakecolor\":\"white\"},\"title\":{\"x\":0.05},\"mapbox\":{\"style\":\"light\"}}},\"xaxis\":{\"anchor\":\"y\",\"domain\":[0.0,1.0],\"title\":{\"text\":\"course_name\"}},\"yaxis\":{\"anchor\":\"x\",\"domain\":[0.0,1.0],\"title\":{\"text\":\"total_attend\"}},\"legend\":{\"tracegroupgap\":0},\"title\":{\"text\":\"Total Kehadiran Siswa Tahun 2019\"},\"barmode\":\"relative\"},                        {\"responsive\": true}                    ).then(function(){\n",
              "                            \n",
              "var gd = document.getElementById('b411c51f-dbbd-41d1-a29c-fc78dc39d182');\n",
              "var x = new MutationObserver(function (mutations, observer) {{\n",
              "        var display = window.getComputedStyle(gd).display;\n",
              "        if (!display || display === 'none') {{\n",
              "            console.log([gd, 'removed!']);\n",
              "            Plotly.purge(gd);\n",
              "            observer.disconnect();\n",
              "        }}\n",
              "}});\n",
              "\n",
              "// Listen for the removal of the full notebook cells\n",
              "var notebookContainer = gd.closest('#notebook-container');\n",
              "if (notebookContainer) {{\n",
              "    x.observe(notebookContainer, {childList: true});\n",
              "}}\n",
              "\n",
              "// Listen for the clearing of the current output cell\n",
              "var outputEl = gd.closest('.output');\n",
              "if (outputEl) {{\n",
              "    x.observe(outputEl, {childList: true});\n",
              "}}\n",
              "\n",
              "                        })                };                            </script>        </div>\n",
              "</body>\n",
              "</html>"
            ]
          },
          "metadata": {}
        }
      ]
    },
    {
      "cell_type": "code",
      "source": [
        "#Melakukan filtering dan analisis berdasarkan data sesuai dengan kondisi yang dinginkan, yaitu data pada tahun 2020\n",
        "\n",
        "df_analys2_filtered_2020 = df_analys2 \\\n",
        "    .filter(year(col('attend_date')) == 2020) \\\n",
        "    .groupBy('course_name').count().withColumnRenamed('count', 'total_attend')\n",
        "\n",
        "df_analys2_filtered_2020.show(10)"
      ],
      "metadata": {
        "colab": {
          "base_uri": "https://localhost:8080/"
        },
        "id": "vksYtjlf8qb-",
        "outputId": "78a4a84b-a150-4fe8-90e4-5028b350f221"
      },
      "execution_count": 28,
      "outputs": [
        {
          "output_type": "stream",
          "name": "stdout",
          "text": [
            "+--------------------+------------+\n",
            "|         course_name|total_attend|\n",
            "+--------------------+------------+\n",
            "|  Python Programming|          19|\n",
            "|         Data Mining|          50|\n",
            "|Introduction to A...|          78|\n",
            "|Natural Language ...|          26|\n",
            "+--------------------+------------+\n",
            "\n"
          ]
        }
      ]
    },
    {
      "cell_type": "code",
      "source": [
        "#Melakukan visualisasi dari data yang telah di analisis khususnya data tahun 2020\n",
        "\n",
        "pandas_df_analys2_filtered_2020 = df_analys2_filtered_2020.toPandas()\n",
        "fig2b = px.bar(pandas_df_analys2_filtered_2020, x='course_name', y='total_attend', title= \"Total Kehadiran Siswa Tahun 2020\")\n",
        "fig2b.show()"
      ],
      "metadata": {
        "colab": {
          "base_uri": "https://localhost:8080/",
          "height": 0
        },
        "id": "KmChHKTNxM7a",
        "outputId": "9f6af7f3-1279-4bb1-f789-da11c6d697d7"
      },
      "execution_count": 29,
      "outputs": [
        {
          "output_type": "display_data",
          "data": {
            "text/html": [
              "<html>\n",
              "<head><meta charset=\"utf-8\" /></head>\n",
              "<body>\n",
              "    <div>            <script src=\"https://cdnjs.cloudflare.com/ajax/libs/mathjax/2.7.5/MathJax.js?config=TeX-AMS-MML_SVG\"></script><script type=\"text/javascript\">if (window.MathJax && window.MathJax.Hub && window.MathJax.Hub.Config) {window.MathJax.Hub.Config({SVG: {font: \"STIX-Web\"}});}</script>                <script type=\"text/javascript\">window.PlotlyConfig = {MathJaxConfig: 'local'};</script>\n",
              "        <script charset=\"utf-8\" src=\"https://cdn.plot.ly/plotly-2.24.1.min.js\"></script>                <div id=\"49de84cb-3f61-44d5-946b-367daefa27b1\" class=\"plotly-graph-div\" style=\"height:525px; width:100%;\"></div>            <script type=\"text/javascript\">                                    window.PLOTLYENV=window.PLOTLYENV || {};                                    if (document.getElementById(\"49de84cb-3f61-44d5-946b-367daefa27b1\")) {                    Plotly.newPlot(                        \"49de84cb-3f61-44d5-946b-367daefa27b1\",                        [{\"alignmentgroup\":\"True\",\"hovertemplate\":\"course_name=%{x}\\u003cbr\\u003etotal_attend=%{y}\\u003cextra\\u003e\\u003c\\u002fextra\\u003e\",\"legendgroup\":\"\",\"marker\":{\"color\":\"#636efa\",\"pattern\":{\"shape\":\"\"}},\"name\":\"\",\"offsetgroup\":\"\",\"orientation\":\"v\",\"showlegend\":false,\"textposition\":\"auto\",\"x\":[\"Python Programming\",\"Data Mining\",\"Introduction to Applied Machine Learning\",\"Natural Language Processing\"],\"xaxis\":\"x\",\"y\":[19,50,78,26],\"yaxis\":\"y\",\"type\":\"bar\"}],                        {\"template\":{\"data\":{\"histogram2dcontour\":[{\"type\":\"histogram2dcontour\",\"colorbar\":{\"outlinewidth\":0,\"ticks\":\"\"},\"colorscale\":[[0.0,\"#0d0887\"],[0.1111111111111111,\"#46039f\"],[0.2222222222222222,\"#7201a8\"],[0.3333333333333333,\"#9c179e\"],[0.4444444444444444,\"#bd3786\"],[0.5555555555555556,\"#d8576b\"],[0.6666666666666666,\"#ed7953\"],[0.7777777777777778,\"#fb9f3a\"],[0.8888888888888888,\"#fdca26\"],[1.0,\"#f0f921\"]]}],\"choropleth\":[{\"type\":\"choropleth\",\"colorbar\":{\"outlinewidth\":0,\"ticks\":\"\"}}],\"histogram2d\":[{\"type\":\"histogram2d\",\"colorbar\":{\"outlinewidth\":0,\"ticks\":\"\"},\"colorscale\":[[0.0,\"#0d0887\"],[0.1111111111111111,\"#46039f\"],[0.2222222222222222,\"#7201a8\"],[0.3333333333333333,\"#9c179e\"],[0.4444444444444444,\"#bd3786\"],[0.5555555555555556,\"#d8576b\"],[0.6666666666666666,\"#ed7953\"],[0.7777777777777778,\"#fb9f3a\"],[0.8888888888888888,\"#fdca26\"],[1.0,\"#f0f921\"]]}],\"heatmap\":[{\"type\":\"heatmap\",\"colorbar\":{\"outlinewidth\":0,\"ticks\":\"\"},\"colorscale\":[[0.0,\"#0d0887\"],[0.1111111111111111,\"#46039f\"],[0.2222222222222222,\"#7201a8\"],[0.3333333333333333,\"#9c179e\"],[0.4444444444444444,\"#bd3786\"],[0.5555555555555556,\"#d8576b\"],[0.6666666666666666,\"#ed7953\"],[0.7777777777777778,\"#fb9f3a\"],[0.8888888888888888,\"#fdca26\"],[1.0,\"#f0f921\"]]}],\"heatmapgl\":[{\"type\":\"heatmapgl\",\"colorbar\":{\"outlinewidth\":0,\"ticks\":\"\"},\"colorscale\":[[0.0,\"#0d0887\"],[0.1111111111111111,\"#46039f\"],[0.2222222222222222,\"#7201a8\"],[0.3333333333333333,\"#9c179e\"],[0.4444444444444444,\"#bd3786\"],[0.5555555555555556,\"#d8576b\"],[0.6666666666666666,\"#ed7953\"],[0.7777777777777778,\"#fb9f3a\"],[0.8888888888888888,\"#fdca26\"],[1.0,\"#f0f921\"]]}],\"contourcarpet\":[{\"type\":\"contourcarpet\",\"colorbar\":{\"outlinewidth\":0,\"ticks\":\"\"}}],\"contour\":[{\"type\":\"contour\",\"colorbar\":{\"outlinewidth\":0,\"ticks\":\"\"},\"colorscale\":[[0.0,\"#0d0887\"],[0.1111111111111111,\"#46039f\"],[0.2222222222222222,\"#7201a8\"],[0.3333333333333333,\"#9c179e\"],[0.4444444444444444,\"#bd3786\"],[0.5555555555555556,\"#d8576b\"],[0.6666666666666666,\"#ed7953\"],[0.7777777777777778,\"#fb9f3a\"],[0.8888888888888888,\"#fdca26\"],[1.0,\"#f0f921\"]]}],\"surface\":[{\"type\":\"surface\",\"colorbar\":{\"outlinewidth\":0,\"ticks\":\"\"},\"colorscale\":[[0.0,\"#0d0887\"],[0.1111111111111111,\"#46039f\"],[0.2222222222222222,\"#7201a8\"],[0.3333333333333333,\"#9c179e\"],[0.4444444444444444,\"#bd3786\"],[0.5555555555555556,\"#d8576b\"],[0.6666666666666666,\"#ed7953\"],[0.7777777777777778,\"#fb9f3a\"],[0.8888888888888888,\"#fdca26\"],[1.0,\"#f0f921\"]]}],\"mesh3d\":[{\"type\":\"mesh3d\",\"colorbar\":{\"outlinewidth\":0,\"ticks\":\"\"}}],\"scatter\":[{\"fillpattern\":{\"fillmode\":\"overlay\",\"size\":10,\"solidity\":0.2},\"type\":\"scatter\"}],\"parcoords\":[{\"type\":\"parcoords\",\"line\":{\"colorbar\":{\"outlinewidth\":0,\"ticks\":\"\"}}}],\"scatterpolargl\":[{\"type\":\"scatterpolargl\",\"marker\":{\"colorbar\":{\"outlinewidth\":0,\"ticks\":\"\"}}}],\"bar\":[{\"error_x\":{\"color\":\"#2a3f5f\"},\"error_y\":{\"color\":\"#2a3f5f\"},\"marker\":{\"line\":{\"color\":\"#E5ECF6\",\"width\":0.5},\"pattern\":{\"fillmode\":\"overlay\",\"size\":10,\"solidity\":0.2}},\"type\":\"bar\"}],\"scattergeo\":[{\"type\":\"scattergeo\",\"marker\":{\"colorbar\":{\"outlinewidth\":0,\"ticks\":\"\"}}}],\"scatterpolar\":[{\"type\":\"scatterpolar\",\"marker\":{\"colorbar\":{\"outlinewidth\":0,\"ticks\":\"\"}}}],\"histogram\":[{\"marker\":{\"pattern\":{\"fillmode\":\"overlay\",\"size\":10,\"solidity\":0.2}},\"type\":\"histogram\"}],\"scattergl\":[{\"type\":\"scattergl\",\"marker\":{\"colorbar\":{\"outlinewidth\":0,\"ticks\":\"\"}}}],\"scatter3d\":[{\"type\":\"scatter3d\",\"line\":{\"colorbar\":{\"outlinewidth\":0,\"ticks\":\"\"}},\"marker\":{\"colorbar\":{\"outlinewidth\":0,\"ticks\":\"\"}}}],\"scattermapbox\":[{\"type\":\"scattermapbox\",\"marker\":{\"colorbar\":{\"outlinewidth\":0,\"ticks\":\"\"}}}],\"scatterternary\":[{\"type\":\"scatterternary\",\"marker\":{\"colorbar\":{\"outlinewidth\":0,\"ticks\":\"\"}}}],\"scattercarpet\":[{\"type\":\"scattercarpet\",\"marker\":{\"colorbar\":{\"outlinewidth\":0,\"ticks\":\"\"}}}],\"carpet\":[{\"aaxis\":{\"endlinecolor\":\"#2a3f5f\",\"gridcolor\":\"white\",\"linecolor\":\"white\",\"minorgridcolor\":\"white\",\"startlinecolor\":\"#2a3f5f\"},\"baxis\":{\"endlinecolor\":\"#2a3f5f\",\"gridcolor\":\"white\",\"linecolor\":\"white\",\"minorgridcolor\":\"white\",\"startlinecolor\":\"#2a3f5f\"},\"type\":\"carpet\"}],\"table\":[{\"cells\":{\"fill\":{\"color\":\"#EBF0F8\"},\"line\":{\"color\":\"white\"}},\"header\":{\"fill\":{\"color\":\"#C8D4E3\"},\"line\":{\"color\":\"white\"}},\"type\":\"table\"}],\"barpolar\":[{\"marker\":{\"line\":{\"color\":\"#E5ECF6\",\"width\":0.5},\"pattern\":{\"fillmode\":\"overlay\",\"size\":10,\"solidity\":0.2}},\"type\":\"barpolar\"}],\"pie\":[{\"automargin\":true,\"type\":\"pie\"}]},\"layout\":{\"autotypenumbers\":\"strict\",\"colorway\":[\"#636efa\",\"#EF553B\",\"#00cc96\",\"#ab63fa\",\"#FFA15A\",\"#19d3f3\",\"#FF6692\",\"#B6E880\",\"#FF97FF\",\"#FECB52\"],\"font\":{\"color\":\"#2a3f5f\"},\"hovermode\":\"closest\",\"hoverlabel\":{\"align\":\"left\"},\"paper_bgcolor\":\"white\",\"plot_bgcolor\":\"#E5ECF6\",\"polar\":{\"bgcolor\":\"#E5ECF6\",\"angularaxis\":{\"gridcolor\":\"white\",\"linecolor\":\"white\",\"ticks\":\"\"},\"radialaxis\":{\"gridcolor\":\"white\",\"linecolor\":\"white\",\"ticks\":\"\"}},\"ternary\":{\"bgcolor\":\"#E5ECF6\",\"aaxis\":{\"gridcolor\":\"white\",\"linecolor\":\"white\",\"ticks\":\"\"},\"baxis\":{\"gridcolor\":\"white\",\"linecolor\":\"white\",\"ticks\":\"\"},\"caxis\":{\"gridcolor\":\"white\",\"linecolor\":\"white\",\"ticks\":\"\"}},\"coloraxis\":{\"colorbar\":{\"outlinewidth\":0,\"ticks\":\"\"}},\"colorscale\":{\"sequential\":[[0.0,\"#0d0887\"],[0.1111111111111111,\"#46039f\"],[0.2222222222222222,\"#7201a8\"],[0.3333333333333333,\"#9c179e\"],[0.4444444444444444,\"#bd3786\"],[0.5555555555555556,\"#d8576b\"],[0.6666666666666666,\"#ed7953\"],[0.7777777777777778,\"#fb9f3a\"],[0.8888888888888888,\"#fdca26\"],[1.0,\"#f0f921\"]],\"sequentialminus\":[[0.0,\"#0d0887\"],[0.1111111111111111,\"#46039f\"],[0.2222222222222222,\"#7201a8\"],[0.3333333333333333,\"#9c179e\"],[0.4444444444444444,\"#bd3786\"],[0.5555555555555556,\"#d8576b\"],[0.6666666666666666,\"#ed7953\"],[0.7777777777777778,\"#fb9f3a\"],[0.8888888888888888,\"#fdca26\"],[1.0,\"#f0f921\"]],\"diverging\":[[0,\"#8e0152\"],[0.1,\"#c51b7d\"],[0.2,\"#de77ae\"],[0.3,\"#f1b6da\"],[0.4,\"#fde0ef\"],[0.5,\"#f7f7f7\"],[0.6,\"#e6f5d0\"],[0.7,\"#b8e186\"],[0.8,\"#7fbc41\"],[0.9,\"#4d9221\"],[1,\"#276419\"]]},\"xaxis\":{\"gridcolor\":\"white\",\"linecolor\":\"white\",\"ticks\":\"\",\"title\":{\"standoff\":15},\"zerolinecolor\":\"white\",\"automargin\":true,\"zerolinewidth\":2},\"yaxis\":{\"gridcolor\":\"white\",\"linecolor\":\"white\",\"ticks\":\"\",\"title\":{\"standoff\":15},\"zerolinecolor\":\"white\",\"automargin\":true,\"zerolinewidth\":2},\"scene\":{\"xaxis\":{\"backgroundcolor\":\"#E5ECF6\",\"gridcolor\":\"white\",\"linecolor\":\"white\",\"showbackground\":true,\"ticks\":\"\",\"zerolinecolor\":\"white\",\"gridwidth\":2},\"yaxis\":{\"backgroundcolor\":\"#E5ECF6\",\"gridcolor\":\"white\",\"linecolor\":\"white\",\"showbackground\":true,\"ticks\":\"\",\"zerolinecolor\":\"white\",\"gridwidth\":2},\"zaxis\":{\"backgroundcolor\":\"#E5ECF6\",\"gridcolor\":\"white\",\"linecolor\":\"white\",\"showbackground\":true,\"ticks\":\"\",\"zerolinecolor\":\"white\",\"gridwidth\":2}},\"shapedefaults\":{\"line\":{\"color\":\"#2a3f5f\"}},\"annotationdefaults\":{\"arrowcolor\":\"#2a3f5f\",\"arrowhead\":0,\"arrowwidth\":1},\"geo\":{\"bgcolor\":\"white\",\"landcolor\":\"#E5ECF6\",\"subunitcolor\":\"white\",\"showland\":true,\"showlakes\":true,\"lakecolor\":\"white\"},\"title\":{\"x\":0.05},\"mapbox\":{\"style\":\"light\"}}},\"xaxis\":{\"anchor\":\"y\",\"domain\":[0.0,1.0],\"title\":{\"text\":\"course_name\"}},\"yaxis\":{\"anchor\":\"x\",\"domain\":[0.0,1.0],\"title\":{\"text\":\"total_attend\"}},\"legend\":{\"tracegroupgap\":0},\"title\":{\"text\":\"Total Kehadiran Siswa Tahun 2020\"},\"barmode\":\"relative\"},                        {\"responsive\": true}                    ).then(function(){\n",
              "                            \n",
              "var gd = document.getElementById('49de84cb-3f61-44d5-946b-367daefa27b1');\n",
              "var x = new MutationObserver(function (mutations, observer) {{\n",
              "        var display = window.getComputedStyle(gd).display;\n",
              "        if (!display || display === 'none') {{\n",
              "            console.log([gd, 'removed!']);\n",
              "            Plotly.purge(gd);\n",
              "            observer.disconnect();\n",
              "        }}\n",
              "}});\n",
              "\n",
              "// Listen for the removal of the full notebook cells\n",
              "var notebookContainer = gd.closest('#notebook-container');\n",
              "if (notebookContainer) {{\n",
              "    x.observe(notebookContainer, {childList: true});\n",
              "}}\n",
              "\n",
              "// Listen for the clearing of the current output cell\n",
              "var outputEl = gd.closest('.output');\n",
              "if (outputEl) {{\n",
              "    x.observe(outputEl, {childList: true});\n",
              "}}\n",
              "\n",
              "                        })                };                            </script>        </div>\n",
              "</body>\n",
              "</html>"
            ]
          },
          "metadata": {}
        }
      ]
    },
    {
      "cell_type": "markdown",
      "source": [
        "### **Analisis 3**\n",
        "\n",
        "Mengetahui pola hari dalam seminggu di mana kursus yang paling sering dijadwalkan pada tahun 2019 dan 2020.\n",
        "\n",
        "Adapun data yang dibutuhkan adalah data schedule kursus. Sehingga nantinya dapat memperlihatkan di mana hari yang paling banyak kursus berjalan di setiap  tahun 2019 dan 2020.\n"
      ],
      "metadata": {
        "id": "fkXKK2L4_BwN"
      }
    },
    {
      "cell_type": "code",
      "source": [
        "df_schedule.show()\n",
        "df_course.show()"
      ],
      "metadata": {
        "id": "D443ksSk_EjY",
        "colab": {
          "base_uri": "https://localhost:8080/"
        },
        "outputId": "5c8ffc71-e308-402b-8047-be3184ac433b"
      },
      "execution_count": 30,
      "outputs": [
        {
          "output_type": "stream",
          "name": "stdout",
          "text": [
            "+-----------+---------+-----------+----------+----------+--------------------+\n",
            "|schedule_id|course_id|lecturer_id|start_date|  end_date|         course_days|\n",
            "+-----------+---------+-----------+----------+----------+--------------------+\n",
            "|          1|        1|         11|2019-09-09|2019-12-08|Monday,Wednesday,...|\n",
            "|          2|        3|          4|2019-09-09|2019-12-08|   Tuesday,Wednesday|\n",
            "|          3|        4|         13|2019-09-09|2019-12-08|     Monday,Thursday|\n",
            "|          4|        5|         28|2019-09-09|2019-12-08|             Tuesday|\n",
            "|          5|        2|         56|2020-01-27|2020-04-26|    Monday,Wednesday|\n",
            "|          6|        7|          1|2020-01-27|2020-04-26|  Wednesday,Thursday|\n",
            "|          7|        1|         11|2020-01-27|2020-04-26|Monday,Wednesday,...|\n",
            "|          8|        7|         22|2020-01-27|2020-04-26|      Monday,Tuesday|\n",
            "|          9|        8|         56|2020-01-27|2020-04-26|            Thursday|\n",
            "|         10|        3|         37|2020-01-27|2020-04-26|     Thursday,Friday|\n",
            "+-----------+---------+-----------+----------+----------+--------------------+\n",
            "\n",
            "+---------+--------------------+\n",
            "|course_id|         course_name|\n",
            "+---------+--------------------+\n",
            "|        1|Introduction to A...|\n",
            "|        2|Natural Language ...|\n",
            "|        3|         Data Mining|\n",
            "|        4|Applied Data Science|\n",
            "|        5|           Statistic|\n",
            "|        6|Introduction to O...|\n",
            "|        7|  Python Programming|\n",
            "|        8|Information Retri...|\n",
            "|        9|          Blockchain|\n",
            "|       10|  Internet of Things|\n",
            "+---------+--------------------+\n",
            "\n"
          ]
        }
      ]
    },
    {
      "cell_type": "code",
      "source": [
        "#Menggabungkan tabel schedule dan course. Kemudian menggunakan select untuk memperlihatkan data yang lebih rapih\n",
        "\n",
        "df_analys3 = df_schedule \\\n",
        "    .join(df_course, (df_schedule['course_id'] == df_course['course_id']), 'inner') \\\n",
        "    .select(\n",
        "        'schedule_id',\n",
        "        'lecturer_id',\n",
        "        'course_name',\n",
        "        'course_days',\n",
        "        'start_date',\n",
        "        'end_date'\n",
        "    )\n",
        "\n",
        "df_analys3.show()"
      ],
      "metadata": {
        "colab": {
          "base_uri": "https://localhost:8080/"
        },
        "id": "vXhxL12AyXb5",
        "outputId": "4f323551-d640-4450-972f-9423f4ae9827"
      },
      "execution_count": 31,
      "outputs": [
        {
          "output_type": "stream",
          "name": "stdout",
          "text": [
            "+-----------+-----------+--------------------+--------------------+----------+----------+\n",
            "|schedule_id|lecturer_id|         course_name|         course_days|start_date|  end_date|\n",
            "+-----------+-----------+--------------------+--------------------+----------+----------+\n",
            "|          7|         11|Introduction to A...|Monday,Wednesday,...|2020-01-27|2020-04-26|\n",
            "|          1|         11|Introduction to A...|Monday,Wednesday,...|2019-09-09|2019-12-08|\n",
            "|          5|         56|Natural Language ...|    Monday,Wednesday|2020-01-27|2020-04-26|\n",
            "|         10|         37|         Data Mining|     Thursday,Friday|2020-01-27|2020-04-26|\n",
            "|          2|          4|         Data Mining|   Tuesday,Wednesday|2019-09-09|2019-12-08|\n",
            "|          3|         13|Applied Data Science|     Monday,Thursday|2019-09-09|2019-12-08|\n",
            "|          4|         28|           Statistic|             Tuesday|2019-09-09|2019-12-08|\n",
            "|          8|         22|  Python Programming|      Monday,Tuesday|2020-01-27|2020-04-26|\n",
            "|          6|          1|  Python Programming|  Wednesday,Thursday|2020-01-27|2020-04-26|\n",
            "|          9|         56|Information Retri...|            Thursday|2020-01-27|2020-04-26|\n",
            "+-----------+-----------+--------------------+--------------------+----------+----------+\n",
            "\n"
          ]
        }
      ]
    },
    {
      "cell_type": "code",
      "source": [
        "#Melakukan filtering berdasarkan data sesuai dengan kondisi yang dinginkan, yaitu data pada tahun 2019\n",
        "\n",
        "df_analys3_filtered_2019 = df_analys3.filter(year(col('start_date')) == 2019)\n",
        "df_analys3_filtered_2019.show()"
      ],
      "metadata": {
        "colab": {
          "base_uri": "https://localhost:8080/"
        },
        "id": "qvsFXBJY-EVv",
        "outputId": "42246df0-b08f-421a-9ed7-c48f6783a0d1"
      },
      "execution_count": 32,
      "outputs": [
        {
          "output_type": "stream",
          "name": "stdout",
          "text": [
            "+-----------+-----------+--------------------+--------------------+----------+----------+\n",
            "|schedule_id|lecturer_id|         course_name|         course_days|start_date|  end_date|\n",
            "+-----------+-----------+--------------------+--------------------+----------+----------+\n",
            "|          1|         11|Introduction to A...|Monday,Wednesday,...|2019-09-09|2019-12-08|\n",
            "|          2|          4|         Data Mining|   Tuesday,Wednesday|2019-09-09|2019-12-08|\n",
            "|          3|         13|Applied Data Science|     Monday,Thursday|2019-09-09|2019-12-08|\n",
            "|          4|         28|           Statistic|             Tuesday|2019-09-09|2019-12-08|\n",
            "+-----------+-----------+--------------------+--------------------+----------+----------+\n",
            "\n"
          ]
        }
      ]
    },
    {
      "cell_type": "code",
      "source": [
        "#Melakukan analisis sesuai yang ingin dicari dengan berdasarkan data yang telah dilakukan filtering sebelumnya\n",
        "\n",
        "df_analys3_2019_clean = df_analys3_filtered_2019 \\\n",
        "    .withColumn('days', split(col('course_days'), ',')) \\\n",
        "    .withColumn('day', explode(col('days'))) \\\n",
        "    .groupBy('day') \\\n",
        "    .count() \\\n",
        "    .withColumnRenamed('count', 'total_course') \\\n",
        "    .orderBy(\n",
        "        expr\n",
        "      (\n",
        "        \"CASE WHEN day = 'Monday' THEN 1 \\\n",
        "        WHEN day = 'Tuesday' THEN 2 \\\n",
        "        WHEN day = 'Wednesday' THEN 3 \\\n",
        "        WHEN day = 'Thursday' THEN 4 \\\n",
        "        WHEN day = 'Friday' THEN 5 \\\n",
        "        ELSE 6 END\"\n",
        "        )\n",
        "    )\n",
        "\n",
        "df_analys3_2019_clean.show()"
      ],
      "metadata": {
        "colab": {
          "base_uri": "https://localhost:8080/"
        },
        "id": "Lxgkj3es-UuR",
        "outputId": "868dd631-e98d-4e93-aa47-d98d68abcb63"
      },
      "execution_count": 33,
      "outputs": [
        {
          "output_type": "stream",
          "name": "stdout",
          "text": [
            "+---------+------------+\n",
            "|      day|total_course|\n",
            "+---------+------------+\n",
            "|   Monday|           2|\n",
            "|  Tuesday|           2|\n",
            "|Wednesday|           2|\n",
            "| Thursday|           1|\n",
            "|   Friday|           1|\n",
            "+---------+------------+\n",
            "\n"
          ]
        }
      ]
    },
    {
      "cell_type": "code",
      "source": [
        "#Melakukan visualisasi dari data yang telah di analisis khususnya data tahun 2019\n",
        "\n",
        "pandas_df_analys3_2019_clean = df_analys3_2019_clean.toPandas()\n",
        "fig3a = px.bar(pandas_df_analys3_2019_clean, x='day', y='total_course', title= \"Total Kursus Aktif Dalam Seminggu Tahun 2019\")\n",
        "fig3a.show()"
      ],
      "metadata": {
        "colab": {
          "base_uri": "https://localhost:8080/",
          "height": 0
        },
        "id": "EeiQKHCdBz-P",
        "outputId": "3f1adad0-029d-402f-d7d6-9815699dd321"
      },
      "execution_count": 34,
      "outputs": [
        {
          "output_type": "display_data",
          "data": {
            "text/html": [
              "<html>\n",
              "<head><meta charset=\"utf-8\" /></head>\n",
              "<body>\n",
              "    <div>            <script src=\"https://cdnjs.cloudflare.com/ajax/libs/mathjax/2.7.5/MathJax.js?config=TeX-AMS-MML_SVG\"></script><script type=\"text/javascript\">if (window.MathJax && window.MathJax.Hub && window.MathJax.Hub.Config) {window.MathJax.Hub.Config({SVG: {font: \"STIX-Web\"}});}</script>                <script type=\"text/javascript\">window.PlotlyConfig = {MathJaxConfig: 'local'};</script>\n",
              "        <script charset=\"utf-8\" src=\"https://cdn.plot.ly/plotly-2.24.1.min.js\"></script>                <div id=\"e6d5b04b-e8fe-4dcb-af3e-7b0eefb394a1\" class=\"plotly-graph-div\" style=\"height:525px; width:100%;\"></div>            <script type=\"text/javascript\">                                    window.PLOTLYENV=window.PLOTLYENV || {};                                    if (document.getElementById(\"e6d5b04b-e8fe-4dcb-af3e-7b0eefb394a1\")) {                    Plotly.newPlot(                        \"e6d5b04b-e8fe-4dcb-af3e-7b0eefb394a1\",                        [{\"alignmentgroup\":\"True\",\"hovertemplate\":\"day=%{x}\\u003cbr\\u003etotal_course=%{y}\\u003cextra\\u003e\\u003c\\u002fextra\\u003e\",\"legendgroup\":\"\",\"marker\":{\"color\":\"#636efa\",\"pattern\":{\"shape\":\"\"}},\"name\":\"\",\"offsetgroup\":\"\",\"orientation\":\"v\",\"showlegend\":false,\"textposition\":\"auto\",\"x\":[\"Monday\",\"Tuesday\",\"Wednesday\",\"Thursday\",\"Friday\"],\"xaxis\":\"x\",\"y\":[2,2,2,1,1],\"yaxis\":\"y\",\"type\":\"bar\"}],                        {\"template\":{\"data\":{\"histogram2dcontour\":[{\"type\":\"histogram2dcontour\",\"colorbar\":{\"outlinewidth\":0,\"ticks\":\"\"},\"colorscale\":[[0.0,\"#0d0887\"],[0.1111111111111111,\"#46039f\"],[0.2222222222222222,\"#7201a8\"],[0.3333333333333333,\"#9c179e\"],[0.4444444444444444,\"#bd3786\"],[0.5555555555555556,\"#d8576b\"],[0.6666666666666666,\"#ed7953\"],[0.7777777777777778,\"#fb9f3a\"],[0.8888888888888888,\"#fdca26\"],[1.0,\"#f0f921\"]]}],\"choropleth\":[{\"type\":\"choropleth\",\"colorbar\":{\"outlinewidth\":0,\"ticks\":\"\"}}],\"histogram2d\":[{\"type\":\"histogram2d\",\"colorbar\":{\"outlinewidth\":0,\"ticks\":\"\"},\"colorscale\":[[0.0,\"#0d0887\"],[0.1111111111111111,\"#46039f\"],[0.2222222222222222,\"#7201a8\"],[0.3333333333333333,\"#9c179e\"],[0.4444444444444444,\"#bd3786\"],[0.5555555555555556,\"#d8576b\"],[0.6666666666666666,\"#ed7953\"],[0.7777777777777778,\"#fb9f3a\"],[0.8888888888888888,\"#fdca26\"],[1.0,\"#f0f921\"]]}],\"heatmap\":[{\"type\":\"heatmap\",\"colorbar\":{\"outlinewidth\":0,\"ticks\":\"\"},\"colorscale\":[[0.0,\"#0d0887\"],[0.1111111111111111,\"#46039f\"],[0.2222222222222222,\"#7201a8\"],[0.3333333333333333,\"#9c179e\"],[0.4444444444444444,\"#bd3786\"],[0.5555555555555556,\"#d8576b\"],[0.6666666666666666,\"#ed7953\"],[0.7777777777777778,\"#fb9f3a\"],[0.8888888888888888,\"#fdca26\"],[1.0,\"#f0f921\"]]}],\"heatmapgl\":[{\"type\":\"heatmapgl\",\"colorbar\":{\"outlinewidth\":0,\"ticks\":\"\"},\"colorscale\":[[0.0,\"#0d0887\"],[0.1111111111111111,\"#46039f\"],[0.2222222222222222,\"#7201a8\"],[0.3333333333333333,\"#9c179e\"],[0.4444444444444444,\"#bd3786\"],[0.5555555555555556,\"#d8576b\"],[0.6666666666666666,\"#ed7953\"],[0.7777777777777778,\"#fb9f3a\"],[0.8888888888888888,\"#fdca26\"],[1.0,\"#f0f921\"]]}],\"contourcarpet\":[{\"type\":\"contourcarpet\",\"colorbar\":{\"outlinewidth\":0,\"ticks\":\"\"}}],\"contour\":[{\"type\":\"contour\",\"colorbar\":{\"outlinewidth\":0,\"ticks\":\"\"},\"colorscale\":[[0.0,\"#0d0887\"],[0.1111111111111111,\"#46039f\"],[0.2222222222222222,\"#7201a8\"],[0.3333333333333333,\"#9c179e\"],[0.4444444444444444,\"#bd3786\"],[0.5555555555555556,\"#d8576b\"],[0.6666666666666666,\"#ed7953\"],[0.7777777777777778,\"#fb9f3a\"],[0.8888888888888888,\"#fdca26\"],[1.0,\"#f0f921\"]]}],\"surface\":[{\"type\":\"surface\",\"colorbar\":{\"outlinewidth\":0,\"ticks\":\"\"},\"colorscale\":[[0.0,\"#0d0887\"],[0.1111111111111111,\"#46039f\"],[0.2222222222222222,\"#7201a8\"],[0.3333333333333333,\"#9c179e\"],[0.4444444444444444,\"#bd3786\"],[0.5555555555555556,\"#d8576b\"],[0.6666666666666666,\"#ed7953\"],[0.7777777777777778,\"#fb9f3a\"],[0.8888888888888888,\"#fdca26\"],[1.0,\"#f0f921\"]]}],\"mesh3d\":[{\"type\":\"mesh3d\",\"colorbar\":{\"outlinewidth\":0,\"ticks\":\"\"}}],\"scatter\":[{\"fillpattern\":{\"fillmode\":\"overlay\",\"size\":10,\"solidity\":0.2},\"type\":\"scatter\"}],\"parcoords\":[{\"type\":\"parcoords\",\"line\":{\"colorbar\":{\"outlinewidth\":0,\"ticks\":\"\"}}}],\"scatterpolargl\":[{\"type\":\"scatterpolargl\",\"marker\":{\"colorbar\":{\"outlinewidth\":0,\"ticks\":\"\"}}}],\"bar\":[{\"error_x\":{\"color\":\"#2a3f5f\"},\"error_y\":{\"color\":\"#2a3f5f\"},\"marker\":{\"line\":{\"color\":\"#E5ECF6\",\"width\":0.5},\"pattern\":{\"fillmode\":\"overlay\",\"size\":10,\"solidity\":0.2}},\"type\":\"bar\"}],\"scattergeo\":[{\"type\":\"scattergeo\",\"marker\":{\"colorbar\":{\"outlinewidth\":0,\"ticks\":\"\"}}}],\"scatterpolar\":[{\"type\":\"scatterpolar\",\"marker\":{\"colorbar\":{\"outlinewidth\":0,\"ticks\":\"\"}}}],\"histogram\":[{\"marker\":{\"pattern\":{\"fillmode\":\"overlay\",\"size\":10,\"solidity\":0.2}},\"type\":\"histogram\"}],\"scattergl\":[{\"type\":\"scattergl\",\"marker\":{\"colorbar\":{\"outlinewidth\":0,\"ticks\":\"\"}}}],\"scatter3d\":[{\"type\":\"scatter3d\",\"line\":{\"colorbar\":{\"outlinewidth\":0,\"ticks\":\"\"}},\"marker\":{\"colorbar\":{\"outlinewidth\":0,\"ticks\":\"\"}}}],\"scattermapbox\":[{\"type\":\"scattermapbox\",\"marker\":{\"colorbar\":{\"outlinewidth\":0,\"ticks\":\"\"}}}],\"scatterternary\":[{\"type\":\"scatterternary\",\"marker\":{\"colorbar\":{\"outlinewidth\":0,\"ticks\":\"\"}}}],\"scattercarpet\":[{\"type\":\"scattercarpet\",\"marker\":{\"colorbar\":{\"outlinewidth\":0,\"ticks\":\"\"}}}],\"carpet\":[{\"aaxis\":{\"endlinecolor\":\"#2a3f5f\",\"gridcolor\":\"white\",\"linecolor\":\"white\",\"minorgridcolor\":\"white\",\"startlinecolor\":\"#2a3f5f\"},\"baxis\":{\"endlinecolor\":\"#2a3f5f\",\"gridcolor\":\"white\",\"linecolor\":\"white\",\"minorgridcolor\":\"white\",\"startlinecolor\":\"#2a3f5f\"},\"type\":\"carpet\"}],\"table\":[{\"cells\":{\"fill\":{\"color\":\"#EBF0F8\"},\"line\":{\"color\":\"white\"}},\"header\":{\"fill\":{\"color\":\"#C8D4E3\"},\"line\":{\"color\":\"white\"}},\"type\":\"table\"}],\"barpolar\":[{\"marker\":{\"line\":{\"color\":\"#E5ECF6\",\"width\":0.5},\"pattern\":{\"fillmode\":\"overlay\",\"size\":10,\"solidity\":0.2}},\"type\":\"barpolar\"}],\"pie\":[{\"automargin\":true,\"type\":\"pie\"}]},\"layout\":{\"autotypenumbers\":\"strict\",\"colorway\":[\"#636efa\",\"#EF553B\",\"#00cc96\",\"#ab63fa\",\"#FFA15A\",\"#19d3f3\",\"#FF6692\",\"#B6E880\",\"#FF97FF\",\"#FECB52\"],\"font\":{\"color\":\"#2a3f5f\"},\"hovermode\":\"closest\",\"hoverlabel\":{\"align\":\"left\"},\"paper_bgcolor\":\"white\",\"plot_bgcolor\":\"#E5ECF6\",\"polar\":{\"bgcolor\":\"#E5ECF6\",\"angularaxis\":{\"gridcolor\":\"white\",\"linecolor\":\"white\",\"ticks\":\"\"},\"radialaxis\":{\"gridcolor\":\"white\",\"linecolor\":\"white\",\"ticks\":\"\"}},\"ternary\":{\"bgcolor\":\"#E5ECF6\",\"aaxis\":{\"gridcolor\":\"white\",\"linecolor\":\"white\",\"ticks\":\"\"},\"baxis\":{\"gridcolor\":\"white\",\"linecolor\":\"white\",\"ticks\":\"\"},\"caxis\":{\"gridcolor\":\"white\",\"linecolor\":\"white\",\"ticks\":\"\"}},\"coloraxis\":{\"colorbar\":{\"outlinewidth\":0,\"ticks\":\"\"}},\"colorscale\":{\"sequential\":[[0.0,\"#0d0887\"],[0.1111111111111111,\"#46039f\"],[0.2222222222222222,\"#7201a8\"],[0.3333333333333333,\"#9c179e\"],[0.4444444444444444,\"#bd3786\"],[0.5555555555555556,\"#d8576b\"],[0.6666666666666666,\"#ed7953\"],[0.7777777777777778,\"#fb9f3a\"],[0.8888888888888888,\"#fdca26\"],[1.0,\"#f0f921\"]],\"sequentialminus\":[[0.0,\"#0d0887\"],[0.1111111111111111,\"#46039f\"],[0.2222222222222222,\"#7201a8\"],[0.3333333333333333,\"#9c179e\"],[0.4444444444444444,\"#bd3786\"],[0.5555555555555556,\"#d8576b\"],[0.6666666666666666,\"#ed7953\"],[0.7777777777777778,\"#fb9f3a\"],[0.8888888888888888,\"#fdca26\"],[1.0,\"#f0f921\"]],\"diverging\":[[0,\"#8e0152\"],[0.1,\"#c51b7d\"],[0.2,\"#de77ae\"],[0.3,\"#f1b6da\"],[0.4,\"#fde0ef\"],[0.5,\"#f7f7f7\"],[0.6,\"#e6f5d0\"],[0.7,\"#b8e186\"],[0.8,\"#7fbc41\"],[0.9,\"#4d9221\"],[1,\"#276419\"]]},\"xaxis\":{\"gridcolor\":\"white\",\"linecolor\":\"white\",\"ticks\":\"\",\"title\":{\"standoff\":15},\"zerolinecolor\":\"white\",\"automargin\":true,\"zerolinewidth\":2},\"yaxis\":{\"gridcolor\":\"white\",\"linecolor\":\"white\",\"ticks\":\"\",\"title\":{\"standoff\":15},\"zerolinecolor\":\"white\",\"automargin\":true,\"zerolinewidth\":2},\"scene\":{\"xaxis\":{\"backgroundcolor\":\"#E5ECF6\",\"gridcolor\":\"white\",\"linecolor\":\"white\",\"showbackground\":true,\"ticks\":\"\",\"zerolinecolor\":\"white\",\"gridwidth\":2},\"yaxis\":{\"backgroundcolor\":\"#E5ECF6\",\"gridcolor\":\"white\",\"linecolor\":\"white\",\"showbackground\":true,\"ticks\":\"\",\"zerolinecolor\":\"white\",\"gridwidth\":2},\"zaxis\":{\"backgroundcolor\":\"#E5ECF6\",\"gridcolor\":\"white\",\"linecolor\":\"white\",\"showbackground\":true,\"ticks\":\"\",\"zerolinecolor\":\"white\",\"gridwidth\":2}},\"shapedefaults\":{\"line\":{\"color\":\"#2a3f5f\"}},\"annotationdefaults\":{\"arrowcolor\":\"#2a3f5f\",\"arrowhead\":0,\"arrowwidth\":1},\"geo\":{\"bgcolor\":\"white\",\"landcolor\":\"#E5ECF6\",\"subunitcolor\":\"white\",\"showland\":true,\"showlakes\":true,\"lakecolor\":\"white\"},\"title\":{\"x\":0.05},\"mapbox\":{\"style\":\"light\"}}},\"xaxis\":{\"anchor\":\"y\",\"domain\":[0.0,1.0],\"title\":{\"text\":\"day\"}},\"yaxis\":{\"anchor\":\"x\",\"domain\":[0.0,1.0],\"title\":{\"text\":\"total_course\"}},\"legend\":{\"tracegroupgap\":0},\"title\":{\"text\":\"Total Kursus Aktif Dalam Seminggu Tahun 2019\"},\"barmode\":\"relative\"},                        {\"responsive\": true}                    ).then(function(){\n",
              "                            \n",
              "var gd = document.getElementById('e6d5b04b-e8fe-4dcb-af3e-7b0eefb394a1');\n",
              "var x = new MutationObserver(function (mutations, observer) {{\n",
              "        var display = window.getComputedStyle(gd).display;\n",
              "        if (!display || display === 'none') {{\n",
              "            console.log([gd, 'removed!']);\n",
              "            Plotly.purge(gd);\n",
              "            observer.disconnect();\n",
              "        }}\n",
              "}});\n",
              "\n",
              "// Listen for the removal of the full notebook cells\n",
              "var notebookContainer = gd.closest('#notebook-container');\n",
              "if (notebookContainer) {{\n",
              "    x.observe(notebookContainer, {childList: true});\n",
              "}}\n",
              "\n",
              "// Listen for the clearing of the current output cell\n",
              "var outputEl = gd.closest('.output');\n",
              "if (outputEl) {{\n",
              "    x.observe(outputEl, {childList: true});\n",
              "}}\n",
              "\n",
              "                        })                };                            </script>        </div>\n",
              "</body>\n",
              "</html>"
            ]
          },
          "metadata": {}
        }
      ]
    },
    {
      "cell_type": "code",
      "source": [
        "#Melakukan filtering berdasarkan data sesuai dengan kondisi yang dinginkan, yaitu data pada tahun 2020\n",
        "\n",
        "df_analys3_filtered_2020 = df_analys3.filter(year(col('start_date')) == 2020)\n",
        "df_analys3_filtered_2020.show()"
      ],
      "metadata": {
        "colab": {
          "base_uri": "https://localhost:8080/"
        },
        "id": "oyksg4DMAEkA",
        "outputId": "6f4e0958-53aa-4619-c58c-55ea099d7a21"
      },
      "execution_count": 35,
      "outputs": [
        {
          "output_type": "stream",
          "name": "stdout",
          "text": [
            "+-----------+-----------+--------------------+--------------------+----------+----------+\n",
            "|schedule_id|lecturer_id|         course_name|         course_days|start_date|  end_date|\n",
            "+-----------+-----------+--------------------+--------------------+----------+----------+\n",
            "|          7|         11|Introduction to A...|Monday,Wednesday,...|2020-01-27|2020-04-26|\n",
            "|          5|         56|Natural Language ...|    Monday,Wednesday|2020-01-27|2020-04-26|\n",
            "|         10|         37|         Data Mining|     Thursday,Friday|2020-01-27|2020-04-26|\n",
            "|          8|         22|  Python Programming|      Monday,Tuesday|2020-01-27|2020-04-26|\n",
            "|          6|          1|  Python Programming|  Wednesday,Thursday|2020-01-27|2020-04-26|\n",
            "|          9|         56|Information Retri...|            Thursday|2020-01-27|2020-04-26|\n",
            "+-----------+-----------+--------------------+--------------------+----------+----------+\n",
            "\n"
          ]
        }
      ]
    },
    {
      "cell_type": "code",
      "source": [
        "#Melakukan analisis sesuai yang ingin dicari dengan berdasarkan data yang telah dilakukan filtering sebelumnya\n",
        "\n",
        "df_analys3_2020_clean = df_analys3_filtered_2020 \\\n",
        "    .withColumn('days', split(col('course_days'), ',')) \\\n",
        "    .withColumn('day', explode(col('days'))) \\\n",
        "    .groupBy('day') \\\n",
        "    .count() \\\n",
        "    .withColumnRenamed('count', 'total_course') \\\n",
        "    .orderBy(\n",
        "        expr\n",
        "      (\n",
        "        \"CASE WHEN day = 'Monday' THEN 1 \\\n",
        "        WHEN day = 'Tuesday' THEN 2 \\\n",
        "        WHEN day = 'Wednesday' THEN 3 \\\n",
        "        WHEN day = 'Thursday' THEN 4 \\\n",
        "        WHEN day = 'Friday' THEN 5 \\\n",
        "        ELSE 6 END\"\n",
        "        )\n",
        "    )\n",
        "\n",
        "df_analys3_2020_clean.show()"
      ],
      "metadata": {
        "colab": {
          "base_uri": "https://localhost:8080/"
        },
        "id": "3_QIQVXlAd-D",
        "outputId": "c834ae19-a002-447a-b3ca-396f732ff8fe"
      },
      "execution_count": 36,
      "outputs": [
        {
          "output_type": "stream",
          "name": "stdout",
          "text": [
            "+---------+------------+\n",
            "|      day|total_course|\n",
            "+---------+------------+\n",
            "|   Monday|           3|\n",
            "|  Tuesday|           1|\n",
            "|Wednesday|           3|\n",
            "| Thursday|           3|\n",
            "|   Friday|           2|\n",
            "+---------+------------+\n",
            "\n"
          ]
        }
      ]
    },
    {
      "cell_type": "code",
      "source": [
        "#Melakukan visualisasi dari data yang telah di analisis khususnya data tahun 2020\n",
        "\n",
        "pandas_df_analys3_2020_clean = df_analys3_2020_clean.toPandas()\n",
        "fig3b = px.bar(pandas_df_analys3_2020_clean, x='day', y='total_course', title= \"Total Kursus Aktif Dalam Seminggu Tahun 2020\")\n",
        "fig3b.show()"
      ],
      "metadata": {
        "colab": {
          "base_uri": "https://localhost:8080/",
          "height": 0
        },
        "id": "-3U9yxgmGyyR",
        "outputId": "3772d826-701d-42b5-d904-6149f55ba11a"
      },
      "execution_count": 37,
      "outputs": [
        {
          "output_type": "display_data",
          "data": {
            "text/html": [
              "<html>\n",
              "<head><meta charset=\"utf-8\" /></head>\n",
              "<body>\n",
              "    <div>            <script src=\"https://cdnjs.cloudflare.com/ajax/libs/mathjax/2.7.5/MathJax.js?config=TeX-AMS-MML_SVG\"></script><script type=\"text/javascript\">if (window.MathJax && window.MathJax.Hub && window.MathJax.Hub.Config) {window.MathJax.Hub.Config({SVG: {font: \"STIX-Web\"}});}</script>                <script type=\"text/javascript\">window.PlotlyConfig = {MathJaxConfig: 'local'};</script>\n",
              "        <script charset=\"utf-8\" src=\"https://cdn.plot.ly/plotly-2.24.1.min.js\"></script>                <div id=\"58ea8a9f-10de-4445-9677-fa671e3b7b9b\" class=\"plotly-graph-div\" style=\"height:525px; width:100%;\"></div>            <script type=\"text/javascript\">                                    window.PLOTLYENV=window.PLOTLYENV || {};                                    if (document.getElementById(\"58ea8a9f-10de-4445-9677-fa671e3b7b9b\")) {                    Plotly.newPlot(                        \"58ea8a9f-10de-4445-9677-fa671e3b7b9b\",                        [{\"alignmentgroup\":\"True\",\"hovertemplate\":\"day=%{x}\\u003cbr\\u003etotal_course=%{y}\\u003cextra\\u003e\\u003c\\u002fextra\\u003e\",\"legendgroup\":\"\",\"marker\":{\"color\":\"#636efa\",\"pattern\":{\"shape\":\"\"}},\"name\":\"\",\"offsetgroup\":\"\",\"orientation\":\"v\",\"showlegend\":false,\"textposition\":\"auto\",\"x\":[\"Monday\",\"Tuesday\",\"Wednesday\",\"Thursday\",\"Friday\"],\"xaxis\":\"x\",\"y\":[3,1,3,3,2],\"yaxis\":\"y\",\"type\":\"bar\"}],                        {\"template\":{\"data\":{\"histogram2dcontour\":[{\"type\":\"histogram2dcontour\",\"colorbar\":{\"outlinewidth\":0,\"ticks\":\"\"},\"colorscale\":[[0.0,\"#0d0887\"],[0.1111111111111111,\"#46039f\"],[0.2222222222222222,\"#7201a8\"],[0.3333333333333333,\"#9c179e\"],[0.4444444444444444,\"#bd3786\"],[0.5555555555555556,\"#d8576b\"],[0.6666666666666666,\"#ed7953\"],[0.7777777777777778,\"#fb9f3a\"],[0.8888888888888888,\"#fdca26\"],[1.0,\"#f0f921\"]]}],\"choropleth\":[{\"type\":\"choropleth\",\"colorbar\":{\"outlinewidth\":0,\"ticks\":\"\"}}],\"histogram2d\":[{\"type\":\"histogram2d\",\"colorbar\":{\"outlinewidth\":0,\"ticks\":\"\"},\"colorscale\":[[0.0,\"#0d0887\"],[0.1111111111111111,\"#46039f\"],[0.2222222222222222,\"#7201a8\"],[0.3333333333333333,\"#9c179e\"],[0.4444444444444444,\"#bd3786\"],[0.5555555555555556,\"#d8576b\"],[0.6666666666666666,\"#ed7953\"],[0.7777777777777778,\"#fb9f3a\"],[0.8888888888888888,\"#fdca26\"],[1.0,\"#f0f921\"]]}],\"heatmap\":[{\"type\":\"heatmap\",\"colorbar\":{\"outlinewidth\":0,\"ticks\":\"\"},\"colorscale\":[[0.0,\"#0d0887\"],[0.1111111111111111,\"#46039f\"],[0.2222222222222222,\"#7201a8\"],[0.3333333333333333,\"#9c179e\"],[0.4444444444444444,\"#bd3786\"],[0.5555555555555556,\"#d8576b\"],[0.6666666666666666,\"#ed7953\"],[0.7777777777777778,\"#fb9f3a\"],[0.8888888888888888,\"#fdca26\"],[1.0,\"#f0f921\"]]}],\"heatmapgl\":[{\"type\":\"heatmapgl\",\"colorbar\":{\"outlinewidth\":0,\"ticks\":\"\"},\"colorscale\":[[0.0,\"#0d0887\"],[0.1111111111111111,\"#46039f\"],[0.2222222222222222,\"#7201a8\"],[0.3333333333333333,\"#9c179e\"],[0.4444444444444444,\"#bd3786\"],[0.5555555555555556,\"#d8576b\"],[0.6666666666666666,\"#ed7953\"],[0.7777777777777778,\"#fb9f3a\"],[0.8888888888888888,\"#fdca26\"],[1.0,\"#f0f921\"]]}],\"contourcarpet\":[{\"type\":\"contourcarpet\",\"colorbar\":{\"outlinewidth\":0,\"ticks\":\"\"}}],\"contour\":[{\"type\":\"contour\",\"colorbar\":{\"outlinewidth\":0,\"ticks\":\"\"},\"colorscale\":[[0.0,\"#0d0887\"],[0.1111111111111111,\"#46039f\"],[0.2222222222222222,\"#7201a8\"],[0.3333333333333333,\"#9c179e\"],[0.4444444444444444,\"#bd3786\"],[0.5555555555555556,\"#d8576b\"],[0.6666666666666666,\"#ed7953\"],[0.7777777777777778,\"#fb9f3a\"],[0.8888888888888888,\"#fdca26\"],[1.0,\"#f0f921\"]]}],\"surface\":[{\"type\":\"surface\",\"colorbar\":{\"outlinewidth\":0,\"ticks\":\"\"},\"colorscale\":[[0.0,\"#0d0887\"],[0.1111111111111111,\"#46039f\"],[0.2222222222222222,\"#7201a8\"],[0.3333333333333333,\"#9c179e\"],[0.4444444444444444,\"#bd3786\"],[0.5555555555555556,\"#d8576b\"],[0.6666666666666666,\"#ed7953\"],[0.7777777777777778,\"#fb9f3a\"],[0.8888888888888888,\"#fdca26\"],[1.0,\"#f0f921\"]]}],\"mesh3d\":[{\"type\":\"mesh3d\",\"colorbar\":{\"outlinewidth\":0,\"ticks\":\"\"}}],\"scatter\":[{\"fillpattern\":{\"fillmode\":\"overlay\",\"size\":10,\"solidity\":0.2},\"type\":\"scatter\"}],\"parcoords\":[{\"type\":\"parcoords\",\"line\":{\"colorbar\":{\"outlinewidth\":0,\"ticks\":\"\"}}}],\"scatterpolargl\":[{\"type\":\"scatterpolargl\",\"marker\":{\"colorbar\":{\"outlinewidth\":0,\"ticks\":\"\"}}}],\"bar\":[{\"error_x\":{\"color\":\"#2a3f5f\"},\"error_y\":{\"color\":\"#2a3f5f\"},\"marker\":{\"line\":{\"color\":\"#E5ECF6\",\"width\":0.5},\"pattern\":{\"fillmode\":\"overlay\",\"size\":10,\"solidity\":0.2}},\"type\":\"bar\"}],\"scattergeo\":[{\"type\":\"scattergeo\",\"marker\":{\"colorbar\":{\"outlinewidth\":0,\"ticks\":\"\"}}}],\"scatterpolar\":[{\"type\":\"scatterpolar\",\"marker\":{\"colorbar\":{\"outlinewidth\":0,\"ticks\":\"\"}}}],\"histogram\":[{\"marker\":{\"pattern\":{\"fillmode\":\"overlay\",\"size\":10,\"solidity\":0.2}},\"type\":\"histogram\"}],\"scattergl\":[{\"type\":\"scattergl\",\"marker\":{\"colorbar\":{\"outlinewidth\":0,\"ticks\":\"\"}}}],\"scatter3d\":[{\"type\":\"scatter3d\",\"line\":{\"colorbar\":{\"outlinewidth\":0,\"ticks\":\"\"}},\"marker\":{\"colorbar\":{\"outlinewidth\":0,\"ticks\":\"\"}}}],\"scattermapbox\":[{\"type\":\"scattermapbox\",\"marker\":{\"colorbar\":{\"outlinewidth\":0,\"ticks\":\"\"}}}],\"scatterternary\":[{\"type\":\"scatterternary\",\"marker\":{\"colorbar\":{\"outlinewidth\":0,\"ticks\":\"\"}}}],\"scattercarpet\":[{\"type\":\"scattercarpet\",\"marker\":{\"colorbar\":{\"outlinewidth\":0,\"ticks\":\"\"}}}],\"carpet\":[{\"aaxis\":{\"endlinecolor\":\"#2a3f5f\",\"gridcolor\":\"white\",\"linecolor\":\"white\",\"minorgridcolor\":\"white\",\"startlinecolor\":\"#2a3f5f\"},\"baxis\":{\"endlinecolor\":\"#2a3f5f\",\"gridcolor\":\"white\",\"linecolor\":\"white\",\"minorgridcolor\":\"white\",\"startlinecolor\":\"#2a3f5f\"},\"type\":\"carpet\"}],\"table\":[{\"cells\":{\"fill\":{\"color\":\"#EBF0F8\"},\"line\":{\"color\":\"white\"}},\"header\":{\"fill\":{\"color\":\"#C8D4E3\"},\"line\":{\"color\":\"white\"}},\"type\":\"table\"}],\"barpolar\":[{\"marker\":{\"line\":{\"color\":\"#E5ECF6\",\"width\":0.5},\"pattern\":{\"fillmode\":\"overlay\",\"size\":10,\"solidity\":0.2}},\"type\":\"barpolar\"}],\"pie\":[{\"automargin\":true,\"type\":\"pie\"}]},\"layout\":{\"autotypenumbers\":\"strict\",\"colorway\":[\"#636efa\",\"#EF553B\",\"#00cc96\",\"#ab63fa\",\"#FFA15A\",\"#19d3f3\",\"#FF6692\",\"#B6E880\",\"#FF97FF\",\"#FECB52\"],\"font\":{\"color\":\"#2a3f5f\"},\"hovermode\":\"closest\",\"hoverlabel\":{\"align\":\"left\"},\"paper_bgcolor\":\"white\",\"plot_bgcolor\":\"#E5ECF6\",\"polar\":{\"bgcolor\":\"#E5ECF6\",\"angularaxis\":{\"gridcolor\":\"white\",\"linecolor\":\"white\",\"ticks\":\"\"},\"radialaxis\":{\"gridcolor\":\"white\",\"linecolor\":\"white\",\"ticks\":\"\"}},\"ternary\":{\"bgcolor\":\"#E5ECF6\",\"aaxis\":{\"gridcolor\":\"white\",\"linecolor\":\"white\",\"ticks\":\"\"},\"baxis\":{\"gridcolor\":\"white\",\"linecolor\":\"white\",\"ticks\":\"\"},\"caxis\":{\"gridcolor\":\"white\",\"linecolor\":\"white\",\"ticks\":\"\"}},\"coloraxis\":{\"colorbar\":{\"outlinewidth\":0,\"ticks\":\"\"}},\"colorscale\":{\"sequential\":[[0.0,\"#0d0887\"],[0.1111111111111111,\"#46039f\"],[0.2222222222222222,\"#7201a8\"],[0.3333333333333333,\"#9c179e\"],[0.4444444444444444,\"#bd3786\"],[0.5555555555555556,\"#d8576b\"],[0.6666666666666666,\"#ed7953\"],[0.7777777777777778,\"#fb9f3a\"],[0.8888888888888888,\"#fdca26\"],[1.0,\"#f0f921\"]],\"sequentialminus\":[[0.0,\"#0d0887\"],[0.1111111111111111,\"#46039f\"],[0.2222222222222222,\"#7201a8\"],[0.3333333333333333,\"#9c179e\"],[0.4444444444444444,\"#bd3786\"],[0.5555555555555556,\"#d8576b\"],[0.6666666666666666,\"#ed7953\"],[0.7777777777777778,\"#fb9f3a\"],[0.8888888888888888,\"#fdca26\"],[1.0,\"#f0f921\"]],\"diverging\":[[0,\"#8e0152\"],[0.1,\"#c51b7d\"],[0.2,\"#de77ae\"],[0.3,\"#f1b6da\"],[0.4,\"#fde0ef\"],[0.5,\"#f7f7f7\"],[0.6,\"#e6f5d0\"],[0.7,\"#b8e186\"],[0.8,\"#7fbc41\"],[0.9,\"#4d9221\"],[1,\"#276419\"]]},\"xaxis\":{\"gridcolor\":\"white\",\"linecolor\":\"white\",\"ticks\":\"\",\"title\":{\"standoff\":15},\"zerolinecolor\":\"white\",\"automargin\":true,\"zerolinewidth\":2},\"yaxis\":{\"gridcolor\":\"white\",\"linecolor\":\"white\",\"ticks\":\"\",\"title\":{\"standoff\":15},\"zerolinecolor\":\"white\",\"automargin\":true,\"zerolinewidth\":2},\"scene\":{\"xaxis\":{\"backgroundcolor\":\"#E5ECF6\",\"gridcolor\":\"white\",\"linecolor\":\"white\",\"showbackground\":true,\"ticks\":\"\",\"zerolinecolor\":\"white\",\"gridwidth\":2},\"yaxis\":{\"backgroundcolor\":\"#E5ECF6\",\"gridcolor\":\"white\",\"linecolor\":\"white\",\"showbackground\":true,\"ticks\":\"\",\"zerolinecolor\":\"white\",\"gridwidth\":2},\"zaxis\":{\"backgroundcolor\":\"#E5ECF6\",\"gridcolor\":\"white\",\"linecolor\":\"white\",\"showbackground\":true,\"ticks\":\"\",\"zerolinecolor\":\"white\",\"gridwidth\":2}},\"shapedefaults\":{\"line\":{\"color\":\"#2a3f5f\"}},\"annotationdefaults\":{\"arrowcolor\":\"#2a3f5f\",\"arrowhead\":0,\"arrowwidth\":1},\"geo\":{\"bgcolor\":\"white\",\"landcolor\":\"#E5ECF6\",\"subunitcolor\":\"white\",\"showland\":true,\"showlakes\":true,\"lakecolor\":\"white\"},\"title\":{\"x\":0.05},\"mapbox\":{\"style\":\"light\"}}},\"xaxis\":{\"anchor\":\"y\",\"domain\":[0.0,1.0],\"title\":{\"text\":\"day\"}},\"yaxis\":{\"anchor\":\"x\",\"domain\":[0.0,1.0],\"title\":{\"text\":\"total_course\"}},\"legend\":{\"tracegroupgap\":0},\"title\":{\"text\":\"Total Kursus Aktif Dalam Seminggu Tahun 2020\"},\"barmode\":\"relative\"},                        {\"responsive\": true}                    ).then(function(){\n",
              "                            \n",
              "var gd = document.getElementById('58ea8a9f-10de-4445-9677-fa671e3b7b9b');\n",
              "var x = new MutationObserver(function (mutations, observer) {{\n",
              "        var display = window.getComputedStyle(gd).display;\n",
              "        if (!display || display === 'none') {{\n",
              "            console.log([gd, 'removed!']);\n",
              "            Plotly.purge(gd);\n",
              "            observer.disconnect();\n",
              "        }}\n",
              "}});\n",
              "\n",
              "// Listen for the removal of the full notebook cells\n",
              "var notebookContainer = gd.closest('#notebook-container');\n",
              "if (notebookContainer) {{\n",
              "    x.observe(notebookContainer, {childList: true});\n",
              "}}\n",
              "\n",
              "// Listen for the clearing of the current output cell\n",
              "var outputEl = gd.closest('.output');\n",
              "if (outputEl) {{\n",
              "    x.observe(outputEl, {childList: true});\n",
              "}}\n",
              "\n",
              "                        })                };                            </script>        </div>\n",
              "</body>\n",
              "</html>"
            ]
          },
          "metadata": {}
        }
      ]
    },
    {
      "cell_type": "markdown",
      "source": [
        "### **Analisis 4**\n",
        "\n",
        "Mengetahui total hari mengajar kursus oleh setiap lectur pada tahun ajaran 2019/2020.\n",
        "\n",
        "Adapun data yang dibutuhkan kurang lebih sama pada anlisis 3 yaitu data schedule yang terdapat data lecturer_id. Sehingga nantinya dapat memperlihatkan berapa jumlah hari mengajar oleh setiap lectur pada tahun ajaran 2019/2020"
      ],
      "metadata": {
        "id": "A5xYUvbzIXfJ"
      }
    },
    {
      "cell_type": "code",
      "source": [
        "df_schedule.show()\n",
        "df_course.show()"
      ],
      "metadata": {
        "colab": {
          "base_uri": "https://localhost:8080/"
        },
        "id": "2v59llMwIbXs",
        "outputId": "3e0a99cc-49cc-4b83-9933-db656e63840f"
      },
      "execution_count": 38,
      "outputs": [
        {
          "output_type": "stream",
          "name": "stdout",
          "text": [
            "+-----------+---------+-----------+----------+----------+--------------------+\n",
            "|schedule_id|course_id|lecturer_id|start_date|  end_date|         course_days|\n",
            "+-----------+---------+-----------+----------+----------+--------------------+\n",
            "|          1|        1|         11|2019-09-09|2019-12-08|Monday,Wednesday,...|\n",
            "|          2|        3|          4|2019-09-09|2019-12-08|   Tuesday,Wednesday|\n",
            "|          3|        4|         13|2019-09-09|2019-12-08|     Monday,Thursday|\n",
            "|          4|        5|         28|2019-09-09|2019-12-08|             Tuesday|\n",
            "|          5|        2|         56|2020-01-27|2020-04-26|    Monday,Wednesday|\n",
            "|          6|        7|          1|2020-01-27|2020-04-26|  Wednesday,Thursday|\n",
            "|          7|        1|         11|2020-01-27|2020-04-26|Monday,Wednesday,...|\n",
            "|          8|        7|         22|2020-01-27|2020-04-26|      Monday,Tuesday|\n",
            "|          9|        8|         56|2020-01-27|2020-04-26|            Thursday|\n",
            "|         10|        3|         37|2020-01-27|2020-04-26|     Thursday,Friday|\n",
            "+-----------+---------+-----------+----------+----------+--------------------+\n",
            "\n",
            "+---------+--------------------+\n",
            "|course_id|         course_name|\n",
            "+---------+--------------------+\n",
            "|        1|Introduction to A...|\n",
            "|        2|Natural Language ...|\n",
            "|        3|         Data Mining|\n",
            "|        4|Applied Data Science|\n",
            "|        5|           Statistic|\n",
            "|        6|Introduction to O...|\n",
            "|        7|  Python Programming|\n",
            "|        8|Information Retri...|\n",
            "|        9|          Blockchain|\n",
            "|       10|  Internet of Things|\n",
            "+---------+--------------------+\n",
            "\n"
          ]
        }
      ]
    },
    {
      "cell_type": "code",
      "source": [
        "#Saya bisa menggunakan df_analys3 karena datanya sama yang dibutuhkan\n",
        "\n",
        "df_analys4 = df_analys3\n",
        "df_analys4.orderBy('start_date').show()"
      ],
      "metadata": {
        "colab": {
          "base_uri": "https://localhost:8080/"
        },
        "id": "koJH03fbK6gx",
        "outputId": "7b463710-8456-4a6a-8ebe-8fc21082baf4"
      },
      "execution_count": 39,
      "outputs": [
        {
          "output_type": "stream",
          "name": "stdout",
          "text": [
            "+-----------+-----------+--------------------+--------------------+----------+----------+\n",
            "|schedule_id|lecturer_id|         course_name|         course_days|start_date|  end_date|\n",
            "+-----------+-----------+--------------------+--------------------+----------+----------+\n",
            "|          1|         11|Introduction to A...|Monday,Wednesday,...|2019-09-09|2019-12-08|\n",
            "|          2|          4|         Data Mining|   Tuesday,Wednesday|2019-09-09|2019-12-08|\n",
            "|          3|         13|Applied Data Science|     Monday,Thursday|2019-09-09|2019-12-08|\n",
            "|          4|         28|           Statistic|             Tuesday|2019-09-09|2019-12-08|\n",
            "|          7|         11|Introduction to A...|Monday,Wednesday,...|2020-01-27|2020-04-26|\n",
            "|          5|         56|Natural Language ...|    Monday,Wednesday|2020-01-27|2020-04-26|\n",
            "|         10|         37|         Data Mining|     Thursday,Friday|2020-01-27|2020-04-26|\n",
            "|          8|         22|  Python Programming|      Monday,Tuesday|2020-01-27|2020-04-26|\n",
            "|          6|          1|  Python Programming|  Wednesday,Thursday|2020-01-27|2020-04-26|\n",
            "|          9|         56|Information Retri...|            Thursday|2020-01-27|2020-04-26|\n",
            "+-----------+-----------+--------------------+--------------------+----------+----------+\n",
            "\n"
          ]
        }
      ]
    },
    {
      "cell_type": "code",
      "source": [
        "#Melakukan pemisahan data yang multiple pada kolom \"course_days\" menjadi 1-1 untuk bisa dihitung nantinya\n",
        "\n",
        "df_analys4_split = df_analys4 \\\n",
        "    .withColumn('days', split(col('course_days'), ',')) \\\n",
        "    .withColumn('day', explode(col('days')))\n",
        "\n",
        "df_analys4_split.show()"
      ],
      "metadata": {
        "colab": {
          "base_uri": "https://localhost:8080/"
        },
        "id": "x_NNudtKMhlV",
        "outputId": "d01602cc-d7f9-418d-81f0-318fffc8d7bd"
      },
      "execution_count": 40,
      "outputs": [
        {
          "output_type": "stream",
          "name": "stdout",
          "text": [
            "+-----------+-----------+--------------------+--------------------+----------+----------+--------------------+---------+\n",
            "|schedule_id|lecturer_id|         course_name|         course_days|start_date|  end_date|                days|      day|\n",
            "+-----------+-----------+--------------------+--------------------+----------+----------+--------------------+---------+\n",
            "|          7|         11|Introduction to A...|Monday,Wednesday,...|2020-01-27|2020-04-26|[Monday, Wednesda...|   Monday|\n",
            "|          7|         11|Introduction to A...|Monday,Wednesday,...|2020-01-27|2020-04-26|[Monday, Wednesda...|Wednesday|\n",
            "|          7|         11|Introduction to A...|Monday,Wednesday,...|2020-01-27|2020-04-26|[Monday, Wednesda...|   Friday|\n",
            "|          1|         11|Introduction to A...|Monday,Wednesday,...|2019-09-09|2019-12-08|[Monday, Wednesda...|   Monday|\n",
            "|          1|         11|Introduction to A...|Monday,Wednesday,...|2019-09-09|2019-12-08|[Monday, Wednesda...|Wednesday|\n",
            "|          1|         11|Introduction to A...|Monday,Wednesday,...|2019-09-09|2019-12-08|[Monday, Wednesda...|   Friday|\n",
            "|          5|         56|Natural Language ...|    Monday,Wednesday|2020-01-27|2020-04-26| [Monday, Wednesday]|   Monday|\n",
            "|          5|         56|Natural Language ...|    Monday,Wednesday|2020-01-27|2020-04-26| [Monday, Wednesday]|Wednesday|\n",
            "|         10|         37|         Data Mining|     Thursday,Friday|2020-01-27|2020-04-26|  [Thursday, Friday]| Thursday|\n",
            "|         10|         37|         Data Mining|     Thursday,Friday|2020-01-27|2020-04-26|  [Thursday, Friday]|   Friday|\n",
            "|          2|          4|         Data Mining|   Tuesday,Wednesday|2019-09-09|2019-12-08|[Tuesday, Wednesday]|  Tuesday|\n",
            "|          2|          4|         Data Mining|   Tuesday,Wednesday|2019-09-09|2019-12-08|[Tuesday, Wednesday]|Wednesday|\n",
            "|          3|         13|Applied Data Science|     Monday,Thursday|2019-09-09|2019-12-08|  [Monday, Thursday]|   Monday|\n",
            "|          3|         13|Applied Data Science|     Monday,Thursday|2019-09-09|2019-12-08|  [Monday, Thursday]| Thursday|\n",
            "|          4|         28|           Statistic|             Tuesday|2019-09-09|2019-12-08|           [Tuesday]|  Tuesday|\n",
            "|          8|         22|  Python Programming|      Monday,Tuesday|2020-01-27|2020-04-26|   [Monday, Tuesday]|   Monday|\n",
            "|          8|         22|  Python Programming|      Monday,Tuesday|2020-01-27|2020-04-26|   [Monday, Tuesday]|  Tuesday|\n",
            "|          6|          1|  Python Programming|  Wednesday,Thursday|2020-01-27|2020-04-26|[Wednesday, Thurs...|Wednesday|\n",
            "|          6|          1|  Python Programming|  Wednesday,Thursday|2020-01-27|2020-04-26|[Wednesday, Thurs...| Thursday|\n",
            "|          9|         56|Information Retri...|            Thursday|2020-01-27|2020-04-26|          [Thursday]| Thursday|\n",
            "+-----------+-----------+--------------------+--------------------+----------+----------+--------------------+---------+\n",
            "\n"
          ]
        }
      ]
    },
    {
      "cell_type": "code",
      "source": [
        "#Melakukan analisis sesuai yang ingin dicari dengan berdasarkan data yang telah dilakukan pemisahan sebelumnya\n",
        "\n",
        "df_lecturer_involvement = df_analys4_split \\\n",
        "    .groupBy('lecturer_id') \\\n",
        "    .count() \\\n",
        "    .withColumnRenamed('count', 'total_lecturing_days') \\\n",
        "    .orderBy('lecturer_id') \\\n",
        "    .withColumn('lecturer_id', col('lecturer_id').cast('string')) #Diubah formatnya dari integer menjadi string, agar pada visualisasinya menjadi rapih\n",
        "\n",
        "df_lecturer_involvement.show()"
      ],
      "metadata": {
        "colab": {
          "base_uri": "https://localhost:8080/"
        },
        "id": "eBGjJGLCNm0a",
        "outputId": "711d2a56-593d-484c-a576-a31976bef5fa"
      },
      "execution_count": 41,
      "outputs": [
        {
          "output_type": "stream",
          "name": "stdout",
          "text": [
            "+-----------+--------------------+\n",
            "|lecturer_id|total_lecturing_days|\n",
            "+-----------+--------------------+\n",
            "|          1|                   2|\n",
            "|          4|                   2|\n",
            "|         11|                   6|\n",
            "|         13|                   2|\n",
            "|         22|                   2|\n",
            "|         28|                   1|\n",
            "|         37|                   2|\n",
            "|         56|                   3|\n",
            "+-----------+--------------------+\n",
            "\n"
          ]
        }
      ]
    },
    {
      "cell_type": "code",
      "source": [
        "#Melakukan visualisasi dari data yang telah di analisis\n",
        "\n",
        "pandas_df_lecturer_involvement = df_lecturer_involvement.toPandas()\n",
        "fig4 = px.bar(pandas_df_lecturer_involvement, x='lecturer_id', y='total_lecturing_days', title= \"Total Hari Mengajar Setiap Lectur Tahun Ajaran 2019/2020\")\n",
        "fig4.show()"
      ],
      "metadata": {
        "colab": {
          "base_uri": "https://localhost:8080/",
          "height": 542
        },
        "id": "-gmiBGDAPrDw",
        "outputId": "6e818ecb-17fd-4c58-9579-3d6151b4999e"
      },
      "execution_count": 42,
      "outputs": [
        {
          "output_type": "display_data",
          "data": {
            "text/html": [
              "<html>\n",
              "<head><meta charset=\"utf-8\" /></head>\n",
              "<body>\n",
              "    <div>            <script src=\"https://cdnjs.cloudflare.com/ajax/libs/mathjax/2.7.5/MathJax.js?config=TeX-AMS-MML_SVG\"></script><script type=\"text/javascript\">if (window.MathJax && window.MathJax.Hub && window.MathJax.Hub.Config) {window.MathJax.Hub.Config({SVG: {font: \"STIX-Web\"}});}</script>                <script type=\"text/javascript\">window.PlotlyConfig = {MathJaxConfig: 'local'};</script>\n",
              "        <script charset=\"utf-8\" src=\"https://cdn.plot.ly/plotly-2.24.1.min.js\"></script>                <div id=\"5ae97109-b7d5-4135-914a-1c6717540f0b\" class=\"plotly-graph-div\" style=\"height:525px; width:100%;\"></div>            <script type=\"text/javascript\">                                    window.PLOTLYENV=window.PLOTLYENV || {};                                    if (document.getElementById(\"5ae97109-b7d5-4135-914a-1c6717540f0b\")) {                    Plotly.newPlot(                        \"5ae97109-b7d5-4135-914a-1c6717540f0b\",                        [{\"alignmentgroup\":\"True\",\"hovertemplate\":\"lecturer_id=%{x}\\u003cbr\\u003etotal_lecturing_days=%{y}\\u003cextra\\u003e\\u003c\\u002fextra\\u003e\",\"legendgroup\":\"\",\"marker\":{\"color\":\"#636efa\",\"pattern\":{\"shape\":\"\"}},\"name\":\"\",\"offsetgroup\":\"\",\"orientation\":\"v\",\"showlegend\":false,\"textposition\":\"auto\",\"x\":[\"1\",\"4\",\"11\",\"13\",\"22\",\"28\",\"37\",\"56\"],\"xaxis\":\"x\",\"y\":[2,2,6,2,2,1,2,3],\"yaxis\":\"y\",\"type\":\"bar\"}],                        {\"template\":{\"data\":{\"histogram2dcontour\":[{\"type\":\"histogram2dcontour\",\"colorbar\":{\"outlinewidth\":0,\"ticks\":\"\"},\"colorscale\":[[0.0,\"#0d0887\"],[0.1111111111111111,\"#46039f\"],[0.2222222222222222,\"#7201a8\"],[0.3333333333333333,\"#9c179e\"],[0.4444444444444444,\"#bd3786\"],[0.5555555555555556,\"#d8576b\"],[0.6666666666666666,\"#ed7953\"],[0.7777777777777778,\"#fb9f3a\"],[0.8888888888888888,\"#fdca26\"],[1.0,\"#f0f921\"]]}],\"choropleth\":[{\"type\":\"choropleth\",\"colorbar\":{\"outlinewidth\":0,\"ticks\":\"\"}}],\"histogram2d\":[{\"type\":\"histogram2d\",\"colorbar\":{\"outlinewidth\":0,\"ticks\":\"\"},\"colorscale\":[[0.0,\"#0d0887\"],[0.1111111111111111,\"#46039f\"],[0.2222222222222222,\"#7201a8\"],[0.3333333333333333,\"#9c179e\"],[0.4444444444444444,\"#bd3786\"],[0.5555555555555556,\"#d8576b\"],[0.6666666666666666,\"#ed7953\"],[0.7777777777777778,\"#fb9f3a\"],[0.8888888888888888,\"#fdca26\"],[1.0,\"#f0f921\"]]}],\"heatmap\":[{\"type\":\"heatmap\",\"colorbar\":{\"outlinewidth\":0,\"ticks\":\"\"},\"colorscale\":[[0.0,\"#0d0887\"],[0.1111111111111111,\"#46039f\"],[0.2222222222222222,\"#7201a8\"],[0.3333333333333333,\"#9c179e\"],[0.4444444444444444,\"#bd3786\"],[0.5555555555555556,\"#d8576b\"],[0.6666666666666666,\"#ed7953\"],[0.7777777777777778,\"#fb9f3a\"],[0.8888888888888888,\"#fdca26\"],[1.0,\"#f0f921\"]]}],\"heatmapgl\":[{\"type\":\"heatmapgl\",\"colorbar\":{\"outlinewidth\":0,\"ticks\":\"\"},\"colorscale\":[[0.0,\"#0d0887\"],[0.1111111111111111,\"#46039f\"],[0.2222222222222222,\"#7201a8\"],[0.3333333333333333,\"#9c179e\"],[0.4444444444444444,\"#bd3786\"],[0.5555555555555556,\"#d8576b\"],[0.6666666666666666,\"#ed7953\"],[0.7777777777777778,\"#fb9f3a\"],[0.8888888888888888,\"#fdca26\"],[1.0,\"#f0f921\"]]}],\"contourcarpet\":[{\"type\":\"contourcarpet\",\"colorbar\":{\"outlinewidth\":0,\"ticks\":\"\"}}],\"contour\":[{\"type\":\"contour\",\"colorbar\":{\"outlinewidth\":0,\"ticks\":\"\"},\"colorscale\":[[0.0,\"#0d0887\"],[0.1111111111111111,\"#46039f\"],[0.2222222222222222,\"#7201a8\"],[0.3333333333333333,\"#9c179e\"],[0.4444444444444444,\"#bd3786\"],[0.5555555555555556,\"#d8576b\"],[0.6666666666666666,\"#ed7953\"],[0.7777777777777778,\"#fb9f3a\"],[0.8888888888888888,\"#fdca26\"],[1.0,\"#f0f921\"]]}],\"surface\":[{\"type\":\"surface\",\"colorbar\":{\"outlinewidth\":0,\"ticks\":\"\"},\"colorscale\":[[0.0,\"#0d0887\"],[0.1111111111111111,\"#46039f\"],[0.2222222222222222,\"#7201a8\"],[0.3333333333333333,\"#9c179e\"],[0.4444444444444444,\"#bd3786\"],[0.5555555555555556,\"#d8576b\"],[0.6666666666666666,\"#ed7953\"],[0.7777777777777778,\"#fb9f3a\"],[0.8888888888888888,\"#fdca26\"],[1.0,\"#f0f921\"]]}],\"mesh3d\":[{\"type\":\"mesh3d\",\"colorbar\":{\"outlinewidth\":0,\"ticks\":\"\"}}],\"scatter\":[{\"fillpattern\":{\"fillmode\":\"overlay\",\"size\":10,\"solidity\":0.2},\"type\":\"scatter\"}],\"parcoords\":[{\"type\":\"parcoords\",\"line\":{\"colorbar\":{\"outlinewidth\":0,\"ticks\":\"\"}}}],\"scatterpolargl\":[{\"type\":\"scatterpolargl\",\"marker\":{\"colorbar\":{\"outlinewidth\":0,\"ticks\":\"\"}}}],\"bar\":[{\"error_x\":{\"color\":\"#2a3f5f\"},\"error_y\":{\"color\":\"#2a3f5f\"},\"marker\":{\"line\":{\"color\":\"#E5ECF6\",\"width\":0.5},\"pattern\":{\"fillmode\":\"overlay\",\"size\":10,\"solidity\":0.2}},\"type\":\"bar\"}],\"scattergeo\":[{\"type\":\"scattergeo\",\"marker\":{\"colorbar\":{\"outlinewidth\":0,\"ticks\":\"\"}}}],\"scatterpolar\":[{\"type\":\"scatterpolar\",\"marker\":{\"colorbar\":{\"outlinewidth\":0,\"ticks\":\"\"}}}],\"histogram\":[{\"marker\":{\"pattern\":{\"fillmode\":\"overlay\",\"size\":10,\"solidity\":0.2}},\"type\":\"histogram\"}],\"scattergl\":[{\"type\":\"scattergl\",\"marker\":{\"colorbar\":{\"outlinewidth\":0,\"ticks\":\"\"}}}],\"scatter3d\":[{\"type\":\"scatter3d\",\"line\":{\"colorbar\":{\"outlinewidth\":0,\"ticks\":\"\"}},\"marker\":{\"colorbar\":{\"outlinewidth\":0,\"ticks\":\"\"}}}],\"scattermapbox\":[{\"type\":\"scattermapbox\",\"marker\":{\"colorbar\":{\"outlinewidth\":0,\"ticks\":\"\"}}}],\"scatterternary\":[{\"type\":\"scatterternary\",\"marker\":{\"colorbar\":{\"outlinewidth\":0,\"ticks\":\"\"}}}],\"scattercarpet\":[{\"type\":\"scattercarpet\",\"marker\":{\"colorbar\":{\"outlinewidth\":0,\"ticks\":\"\"}}}],\"carpet\":[{\"aaxis\":{\"endlinecolor\":\"#2a3f5f\",\"gridcolor\":\"white\",\"linecolor\":\"white\",\"minorgridcolor\":\"white\",\"startlinecolor\":\"#2a3f5f\"},\"baxis\":{\"endlinecolor\":\"#2a3f5f\",\"gridcolor\":\"white\",\"linecolor\":\"white\",\"minorgridcolor\":\"white\",\"startlinecolor\":\"#2a3f5f\"},\"type\":\"carpet\"}],\"table\":[{\"cells\":{\"fill\":{\"color\":\"#EBF0F8\"},\"line\":{\"color\":\"white\"}},\"header\":{\"fill\":{\"color\":\"#C8D4E3\"},\"line\":{\"color\":\"white\"}},\"type\":\"table\"}],\"barpolar\":[{\"marker\":{\"line\":{\"color\":\"#E5ECF6\",\"width\":0.5},\"pattern\":{\"fillmode\":\"overlay\",\"size\":10,\"solidity\":0.2}},\"type\":\"barpolar\"}],\"pie\":[{\"automargin\":true,\"type\":\"pie\"}]},\"layout\":{\"autotypenumbers\":\"strict\",\"colorway\":[\"#636efa\",\"#EF553B\",\"#00cc96\",\"#ab63fa\",\"#FFA15A\",\"#19d3f3\",\"#FF6692\",\"#B6E880\",\"#FF97FF\",\"#FECB52\"],\"font\":{\"color\":\"#2a3f5f\"},\"hovermode\":\"closest\",\"hoverlabel\":{\"align\":\"left\"},\"paper_bgcolor\":\"white\",\"plot_bgcolor\":\"#E5ECF6\",\"polar\":{\"bgcolor\":\"#E5ECF6\",\"angularaxis\":{\"gridcolor\":\"white\",\"linecolor\":\"white\",\"ticks\":\"\"},\"radialaxis\":{\"gridcolor\":\"white\",\"linecolor\":\"white\",\"ticks\":\"\"}},\"ternary\":{\"bgcolor\":\"#E5ECF6\",\"aaxis\":{\"gridcolor\":\"white\",\"linecolor\":\"white\",\"ticks\":\"\"},\"baxis\":{\"gridcolor\":\"white\",\"linecolor\":\"white\",\"ticks\":\"\"},\"caxis\":{\"gridcolor\":\"white\",\"linecolor\":\"white\",\"ticks\":\"\"}},\"coloraxis\":{\"colorbar\":{\"outlinewidth\":0,\"ticks\":\"\"}},\"colorscale\":{\"sequential\":[[0.0,\"#0d0887\"],[0.1111111111111111,\"#46039f\"],[0.2222222222222222,\"#7201a8\"],[0.3333333333333333,\"#9c179e\"],[0.4444444444444444,\"#bd3786\"],[0.5555555555555556,\"#d8576b\"],[0.6666666666666666,\"#ed7953\"],[0.7777777777777778,\"#fb9f3a\"],[0.8888888888888888,\"#fdca26\"],[1.0,\"#f0f921\"]],\"sequentialminus\":[[0.0,\"#0d0887\"],[0.1111111111111111,\"#46039f\"],[0.2222222222222222,\"#7201a8\"],[0.3333333333333333,\"#9c179e\"],[0.4444444444444444,\"#bd3786\"],[0.5555555555555556,\"#d8576b\"],[0.6666666666666666,\"#ed7953\"],[0.7777777777777778,\"#fb9f3a\"],[0.8888888888888888,\"#fdca26\"],[1.0,\"#f0f921\"]],\"diverging\":[[0,\"#8e0152\"],[0.1,\"#c51b7d\"],[0.2,\"#de77ae\"],[0.3,\"#f1b6da\"],[0.4,\"#fde0ef\"],[0.5,\"#f7f7f7\"],[0.6,\"#e6f5d0\"],[0.7,\"#b8e186\"],[0.8,\"#7fbc41\"],[0.9,\"#4d9221\"],[1,\"#276419\"]]},\"xaxis\":{\"gridcolor\":\"white\",\"linecolor\":\"white\",\"ticks\":\"\",\"title\":{\"standoff\":15},\"zerolinecolor\":\"white\",\"automargin\":true,\"zerolinewidth\":2},\"yaxis\":{\"gridcolor\":\"white\",\"linecolor\":\"white\",\"ticks\":\"\",\"title\":{\"standoff\":15},\"zerolinecolor\":\"white\",\"automargin\":true,\"zerolinewidth\":2},\"scene\":{\"xaxis\":{\"backgroundcolor\":\"#E5ECF6\",\"gridcolor\":\"white\",\"linecolor\":\"white\",\"showbackground\":true,\"ticks\":\"\",\"zerolinecolor\":\"white\",\"gridwidth\":2},\"yaxis\":{\"backgroundcolor\":\"#E5ECF6\",\"gridcolor\":\"white\",\"linecolor\":\"white\",\"showbackground\":true,\"ticks\":\"\",\"zerolinecolor\":\"white\",\"gridwidth\":2},\"zaxis\":{\"backgroundcolor\":\"#E5ECF6\",\"gridcolor\":\"white\",\"linecolor\":\"white\",\"showbackground\":true,\"ticks\":\"\",\"zerolinecolor\":\"white\",\"gridwidth\":2}},\"shapedefaults\":{\"line\":{\"color\":\"#2a3f5f\"}},\"annotationdefaults\":{\"arrowcolor\":\"#2a3f5f\",\"arrowhead\":0,\"arrowwidth\":1},\"geo\":{\"bgcolor\":\"white\",\"landcolor\":\"#E5ECF6\",\"subunitcolor\":\"white\",\"showland\":true,\"showlakes\":true,\"lakecolor\":\"white\"},\"title\":{\"x\":0.05},\"mapbox\":{\"style\":\"light\"}}},\"xaxis\":{\"anchor\":\"y\",\"domain\":[0.0,1.0],\"title\":{\"text\":\"lecturer_id\"}},\"yaxis\":{\"anchor\":\"x\",\"domain\":[0.0,1.0],\"title\":{\"text\":\"total_lecturing_days\"}},\"legend\":{\"tracegroupgap\":0},\"title\":{\"text\":\"Total Hari Mengajar Setiap Lectur Tahun Ajaran 2019\\u002f2020\"},\"barmode\":\"relative\"},                        {\"responsive\": true}                    ).then(function(){\n",
              "                            \n",
              "var gd = document.getElementById('5ae97109-b7d5-4135-914a-1c6717540f0b');\n",
              "var x = new MutationObserver(function (mutations, observer) {{\n",
              "        var display = window.getComputedStyle(gd).display;\n",
              "        if (!display || display === 'none') {{\n",
              "            console.log([gd, 'removed!']);\n",
              "            Plotly.purge(gd);\n",
              "            observer.disconnect();\n",
              "        }}\n",
              "}});\n",
              "\n",
              "// Listen for the removal of the full notebook cells\n",
              "var notebookContainer = gd.closest('#notebook-container');\n",
              "if (notebookContainer) {{\n",
              "    x.observe(notebookContainer, {childList: true});\n",
              "}}\n",
              "\n",
              "// Listen for the clearing of the current output cell\n",
              "var outputEl = gd.closest('.output');\n",
              "if (outputEl) {{\n",
              "    x.observe(outputEl, {childList: true});\n",
              "}}\n",
              "\n",
              "                        })                };                            </script>        </div>\n",
              "</body>\n",
              "</html>"
            ]
          },
          "metadata": {}
        }
      ]
    },
    {
      "cell_type": "markdown",
      "source": [
        "### **Analisis 5 (Nilai Korelasi Analisis 1 & 2)**\n",
        "\n",
        "Mengetahui nilai korelasi antara hasil analisis 1 dengan analisis 2.\n",
        "\n",
        "Adapun data yang dibutuhkan adalah hasil dari analisis 1 dengan anilisis 2 yang dimana akan dilakukan join dengan berdasarkan kolom yang sama yaitu 'course_name'. Sehingga nantinya akan memperlihatkan nilai korelasinya, jika memiliki nilai mendekati 1 maka memiliki keterkaitan yang besar antara data tersebut."
      ],
      "metadata": {
        "id": "241caTXDSNMd"
      }
    },
    {
      "cell_type": "code",
      "source": [
        "df_analys1_clean.show()\n",
        "\n",
        "df_analys2_clean = df_analys2.groupBy('course_name').count().withColumnRenamed('count', 'total_attendance')\n",
        "df_analys2_clean.show()"
      ],
      "metadata": {
        "colab": {
          "base_uri": "https://localhost:8080/"
        },
        "id": "k7k3cdVnSTq3",
        "outputId": "69f4a58d-ab64-4273-d15e-edb1142d410d"
      },
      "execution_count": 43,
      "outputs": [
        {
          "output_type": "stream",
          "name": "stdout",
          "text": [
            "+--------------------+-------------+\n",
            "|         course_name|total_student|\n",
            "+--------------------+-------------+\n",
            "|  Python Programming|            1|\n",
            "|         Data Mining|            5|\n",
            "|           Statistic|            2|\n",
            "|Applied Data Science|            2|\n",
            "|Introduction to A...|            4|\n",
            "|Natural Language ...|            1|\n",
            "+--------------------+-------------+\n",
            "\n",
            "+--------------------+----------------+\n",
            "|         course_name|total_attendance|\n",
            "+--------------------+----------------+\n",
            "|  Python Programming|              19|\n",
            "|         Data Mining|             128|\n",
            "|           Statistic|              19|\n",
            "|Applied Data Science|              44|\n",
            "|Introduction to A...|             144|\n",
            "|Natural Language ...|              26|\n",
            "+--------------------+----------------+\n",
            "\n"
          ]
        }
      ]
    },
    {
      "cell_type": "code",
      "source": [
        "#Melakukan perhitungan korelasi dengan corr antara hasil analisis 1 dengan hasil analisis 2\n",
        "\n",
        "correlation = df_analys1_clean.join(df_analys2_clean, 'course_name', 'inner') \\\n",
        "    .select(corr('total_student', 'total_attendance').alias('correlation_value'))\n",
        "\n",
        "correlation.show()"
      ],
      "metadata": {
        "colab": {
          "base_uri": "https://localhost:8080/"
        },
        "id": "wP5Lz_LgTHgp",
        "outputId": "8dcd6ae7-0aea-4b51-a9be-e30c5830eb69"
      },
      "execution_count": 44,
      "outputs": [
        {
          "output_type": "stream",
          "name": "stdout",
          "text": [
            "+------------------+\n",
            "| correlation_value|\n",
            "+------------------+\n",
            "|0.9290956117547955|\n",
            "+------------------+\n",
            "\n"
          ]
        }
      ]
    },
    {
      "cell_type": "markdown",
      "source": [
        "## **4. Data Load**\n",
        "\n",
        "Melakukan export data-data dari hasil analisis dan visualisasi."
      ],
      "metadata": {
        "id": "Dexm0-0nZMui"
      }
    },
    {
      "cell_type": "markdown",
      "source": [
        "### **Export Graph to Image**\n",
        "\n",
        "Melakukan export dari graph yang telah dibuat menjadi image (PNG)"
      ],
      "metadata": {
        "id": "kDouyjyXo6q-"
      }
    },
    {
      "cell_type": "code",
      "source": [
        "fig1.write_image(\"Jumlah Siswa Setiap Kursus.png\")\n",
        "fig2a.write_image(\"Total Kehadiran Siswa Tahun 2019.png\")\n",
        "fig2b.write_image(\"Total Kehadiran Siswa Tahun 2020.png\")\n",
        "fig3a.write_image(\"Total Kursus Aktif Dalam Seminggu Tahun 2019.png\")\n",
        "fig3b.write_image(\"Total Kursus Aktif Dalam Seminggu Tahun 2020.png\")\n",
        "fig4.write_image(\"Total Hari Mengajar Setiap Lectur.png\")"
      ],
      "metadata": {
        "id": "8cunKQd-ZO3E"
      },
      "execution_count": 45,
      "outputs": []
    },
    {
      "cell_type": "markdown",
      "source": [
        "### **Export Dataframe to CSV**\n",
        "\n",
        "Melakukan export dataframe yang merupakan hasil analisis dan dasar data sebagai graph menjadi file CSV"
      ],
      "metadata": {
        "id": "igztNqXApD2i"
      }
    },
    {
      "cell_type": "code",
      "source": [
        "df_analys1_clean.write.format(\"csv\").option(\"header\", \"true\").save(\"/content/drive/MyDrive/Day 13/Export/df_analys1\")\n",
        "df_analys2_filtered_2019.write.format(\"csv\").option(\"header\", \"true\").save(\"/content/drive/MyDrive/Day 13/Export/df_analys2_2019\")\n",
        "df_analys2_filtered_2020.write.format(\"csv\").option(\"header\", \"true\").save(\"/content/drive/MyDrive/Day 13/Export/df_analys2_2020\")\n",
        "df_analys3_2019_clean.write.format(\"csv\").option(\"header\", \"true\").save(\"/content/drive/MyDrive/Day 13/Export/df_analys3_2019\")\n",
        "df_analys3_2020_clean.write.format(\"csv\").option(\"header\", \"true\").save(\"/content/drive/MyDrive/Day 13/Export/df_analys3_2020\")\n",
        "df_lecturer_involvement.write.format(\"csv\").option(\"header\", \"true\").save(\"/content/drive/MyDrive/Day 13/Export/df_analys4\")"
      ],
      "metadata": {
        "id": "s4hDId5TpH0a"
      },
      "execution_count": 48,
      "outputs": []
    }
  ]
}